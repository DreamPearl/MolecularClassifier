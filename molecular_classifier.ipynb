{
 "cells": [
  {
   "cell_type": "markdown",
   "metadata": {},
   "source": [
    "## Pre-processing"
   ]
  },
  {
   "cell_type": "code",
   "execution_count": 2,
   "metadata": {},
   "outputs": [],
   "source": [
    "import pandas as pd\n",
    "import numpy as np"
   ]
  },
  {
   "cell_type": "code",
   "execution_count": 3,
   "metadata": {},
   "outputs": [
    {
     "name": "stdout",
     "output_type": "stream",
     "text": [
      "[[6124 6125 'NON-MUSK-j147' ... -158 -22 0]\n",
      " [3760 3761 'NON-MUSK-289' ... -158 127 0]\n",
      " [579 580 'MUSK-256' ... -162 130 1]\n",
      " ...\n",
      " [1944 1945 'NON-MUSK-233' ... -142 -3 0]\n",
      " [218 219 'MUSK-215' ... -120 45 1]\n",
      " [5177 5178 'NON-MUSK-j146' ... -162 132 0]]\n"
     ]
    }
   ],
   "source": [
    "mdata = pd.read_csv('data/musk_csv.csv')      \n",
    "mdata=mdata.reset_index().values\n",
    "np.random.shuffle(mdata)          # Shuffling the data\n",
    "print(mdata)"
   ]
  },
  {
   "cell_type": "code",
   "execution_count": 4,
   "metadata": {},
   "outputs": [
    {
     "name": "stdout",
     "output_type": "stream",
     "text": [
      "Data rows: 6598\n",
      "Train data:\n",
      "[[44 89 30 ... -158 -22 0]\n",
      " [35 -136 -150 ... -158 127 0]\n",
      " [36 -121 -130 ... -162 130 1]\n",
      " ...\n",
      " [44 -103 -18 ... -142 -3 0]\n",
      " [48 -192 -145 ... -120 45 1]\n",
      " [36 -128 -126 ... -162 132 0]]\n"
     ]
    }
   ],
   "source": [
    "train_length=len(mdata)   # Taking full data, splittng the train and validation inside keras.fit\n",
    "print(\"Data rows: {}\".format(train_length))\n",
    "train_data = mdata[:,4:]\n",
    "print(\"Train data:\")\n",
    "print(train_data)"
   ]
  },
  {
   "cell_type": "code",
   "execution_count": 5,
   "metadata": {},
   "outputs": [
    {
     "name": "stdout",
     "output_type": "stream",
     "text": [
      "Musk record in train data: 1017\n",
      "Non-Musk record in train data: 5581\n"
     ]
    }
   ],
   "source": [
    "class_traindata=train_data[:,-1]\n",
    "musk_traindata=sum(class_traindata)\n",
    "nonmusk_traindata=train_length-musk_traindata\n",
    "print('Musk record in train data: {}'.format(musk_traindata))\n",
    "print('Non-Musk record in train data: {}'.format(nonmusk_traindata))"
   ]
  },
  {
   "cell_type": "markdown",
   "metadata": {},
   "source": [
    "## Model"
   ]
  },
  {
   "cell_type": "code",
   "execution_count": 6,
   "metadata": {},
   "outputs": [],
   "source": [
    "import keras\n",
    "\n",
    "from keras.models import Sequential\n",
    "from keras.layers import Dense\n",
    "from keras import backend as K\n",
    "from keras.layers.normalization import BatchNormalization\n",
    "from keras.layers import Dropout\n",
    "\n",
    "def recall_m(y_true, y_pred):\n",
    "    true_positives = K.sum(K.round(K.clip(y_true * y_pred, 0, 1)))\n",
    "    possible_positives = K.sum(K.round(K.clip(y_true, 0, 1)))\n",
    "    recall = true_positives / (possible_positives + K.epsilon())\n",
    "    return recall\n",
    "\n",
    "def precision_m(y_true, y_pred):\n",
    "    true_positives = K.sum(K.round(K.clip(y_true * y_pred, 0, 1)))\n",
    "    predicted_positives = K.sum(K.round(K.clip(y_pred, 0, 1)))\n",
    "    precision = true_positives / (predicted_positives + K.epsilon())\n",
    "    return precision\n",
    "\n",
    "def f1_m(y_true, y_pred):\n",
    "    precision = precision_m(y_true, y_pred)\n",
    "    recall = recall_m(y_true, y_pred)\n",
    "    return 2*((precision*recall)/(precision+recall+K.epsilon()))\n",
    "\n",
    "model = Sequential()\n",
    "model.add(Dense(60, input_dim=166, activation='relu'))\n",
    "model.add(BatchNormalization())\n",
    "model.add(Dropout(0.12))\n",
    "model.add(Dense(30, activation='relu'))\n",
    "model.add(Dense(2, activation='softmax'))\n",
    "model.compile(loss='categorical_crossentropy', optimizer='adam', metrics=['accuracy',f1_m,precision_m, recall_m])"
   ]
  },
  {
   "cell_type": "code",
   "execution_count": 7,
   "metadata": {},
   "outputs": [
    {
     "name": "stdout",
     "output_type": "stream",
     "text": [
      "Epoch 1/150\n",
      "11/11 [==============================] - 2s 140ms/step - loss: 0.4742 - accuracy: 0.7709 - f1_m: 0.7745 - precision_m: 0.7745 - recall_m: 0.7745 - val_loss: 0.8962 - val_accuracy: 0.8417 - val_f1_m: 0.8415 - val_precision_m: 0.8415 - val_recall_m: 0.8415\n",
      "Epoch 2/150\n",
      "11/11 [==============================] - 0s 29ms/step - loss: 0.2816 - accuracy: 0.8956 - f1_m: 0.8955 - precision_m: 0.8955 - recall_m: 0.8955 - val_loss: 0.7064 - val_accuracy: 0.8394 - val_f1_m: 0.8395 - val_precision_m: 0.8395 - val_recall_m: 0.8395\n",
      "Epoch 3/150\n",
      "11/11 [==============================] - 0s 21ms/step - loss: 0.2205 - accuracy: 0.9225 - f1_m: 0.9223 - precision_m: 0.9223 - recall_m: 0.9223 - val_loss: 0.5214 - val_accuracy: 0.8455 - val_f1_m: 0.8452 - val_precision_m: 0.8452 - val_recall_m: 0.8452\n",
      "Epoch 4/150\n",
      "11/11 [==============================] - 0s 34ms/step - loss: 0.1800 - accuracy: 0.9344 - f1_m: 0.9355 - precision_m: 0.9355 - recall_m: 0.9355 - val_loss: 0.4747 - val_accuracy: 0.8576 - val_f1_m: 0.8582 - val_precision_m: 0.8582 - val_recall_m: 0.8582\n",
      "Epoch 5/150\n",
      "11/11 [==============================] - 0s 19ms/step - loss: 0.1558 - accuracy: 0.9454 - f1_m: 0.9465 - precision_m: 0.9465 - recall_m: 0.9465 - val_loss: 0.4421 - val_accuracy: 0.8674 - val_f1_m: 0.8687 - val_precision_m: 0.8687 - val_recall_m: 0.8687\n",
      "Epoch 6/150\n",
      "11/11 [==============================] - 0s 28ms/step - loss: 0.1332 - accuracy: 0.9541 - f1_m: 0.9544 - precision_m: 0.9544 - recall_m: 0.9544 - val_loss: 0.3191 - val_accuracy: 0.9000 - val_f1_m: 0.9004 - val_precision_m: 0.9004 - val_recall_m: 0.9004\n",
      "Epoch 7/150\n",
      "11/11 [==============================] - 0s 25ms/step - loss: 0.1208 - accuracy: 0.9585 - f1_m: 0.9593 - precision_m: 0.9593 - recall_m: 0.9593 - val_loss: 0.2702 - val_accuracy: 0.9068 - val_f1_m: 0.9075 - val_precision_m: 0.9075 - val_recall_m: 0.9075\n",
      "Epoch 8/150\n",
      "11/11 [==============================] - 0s 22ms/step - loss: 0.1104 - accuracy: 0.9613 - f1_m: 0.9616 - precision_m: 0.9616 - recall_m: 0.9616 - val_loss: 0.2354 - val_accuracy: 0.9152 - val_f1_m: 0.9156 - val_precision_m: 0.9156 - val_recall_m: 0.9156\n",
      "Epoch 9/150\n",
      "11/11 [==============================] - 0s 33ms/step - loss: 0.0981 - accuracy: 0.9687 - f1_m: 0.9685 - precision_m: 0.9685 - recall_m: 0.9685 - val_loss: 0.1788 - val_accuracy: 0.9265 - val_f1_m: 0.9260 - val_precision_m: 0.9260 - val_recall_m: 0.9260\n",
      "Epoch 10/150\n",
      "11/11 [==============================] - 0s 22ms/step - loss: 0.0914 - accuracy: 0.9687 - f1_m: 0.9684 - precision_m: 0.9684 - recall_m: 0.9684 - val_loss: 0.1540 - val_accuracy: 0.9394 - val_f1_m: 0.9399 - val_precision_m: 0.9399 - val_recall_m: 0.9399\n",
      "Epoch 11/150\n",
      "11/11 [==============================] - 0s 22ms/step - loss: 0.0816 - accuracy: 0.9727 - f1_m: 0.9728 - precision_m: 0.9728 - recall_m: 0.9728 - val_loss: 0.1243 - val_accuracy: 0.9500 - val_f1_m: 0.9500 - val_precision_m: 0.9500 - val_recall_m: 0.9500\n",
      "Epoch 12/150\n",
      "11/11 [==============================] - 0s 26ms/step - loss: 0.0766 - accuracy: 0.9752 - f1_m: 0.9752 - precision_m: 0.9752 - recall_m: 0.9752 - val_loss: 0.1118 - val_accuracy: 0.9568 - val_f1_m: 0.9560 - val_precision_m: 0.9560 - val_recall_m: 0.9560\n",
      "Epoch 13/150\n",
      "11/11 [==============================] - 0s 19ms/step - loss: 0.0711 - accuracy: 0.9740 - f1_m: 0.9739 - precision_m: 0.9739 - recall_m: 0.9739 - val_loss: 0.0999 - val_accuracy: 0.9621 - val_f1_m: 0.9622 - val_precision_m: 0.9622 - val_recall_m: 0.9622\n",
      "Epoch 14/150\n",
      "11/11 [==============================] - 0s 19ms/step - loss: 0.0627 - accuracy: 0.9818 - f1_m: 0.9821 - precision_m: 0.9821 - recall_m: 0.9821 - val_loss: 0.0831 - val_accuracy: 0.9720 - val_f1_m: 0.9720 - val_precision_m: 0.9720 - val_recall_m: 0.9720\n",
      "Epoch 15/150\n",
      "11/11 [==============================] - 0s 20ms/step - loss: 0.0577 - accuracy: 0.9807 - f1_m: 0.9806 - precision_m: 0.9806 - recall_m: 0.9806 - val_loss: 0.0739 - val_accuracy: 0.9742 - val_f1_m: 0.9743 - val_precision_m: 0.9743 - val_recall_m: 0.9743\n",
      "Epoch 16/150\n",
      "11/11 [==============================] - 0s 23ms/step - loss: 0.0532 - accuracy: 0.9828 - f1_m: 0.9829 - precision_m: 0.9829 - recall_m: 0.9829 - val_loss: 0.0660 - val_accuracy: 0.9773 - val_f1_m: 0.9770 - val_precision_m: 0.9770 - val_recall_m: 0.9770\n",
      "Epoch 17/150\n",
      "11/11 [==============================] - 0s 25ms/step - loss: 0.0517 - accuracy: 0.9824 - f1_m: 0.9822 - precision_m: 0.9822 - recall_m: 0.9822 - val_loss: 0.0689 - val_accuracy: 0.9780 - val_f1_m: 0.9777 - val_precision_m: 0.9777 - val_recall_m: 0.9777\n",
      "Epoch 18/150\n",
      "11/11 [==============================] - 0s 23ms/step - loss: 0.0534 - accuracy: 0.9799 - f1_m: 0.9801 - precision_m: 0.9801 - recall_m: 0.9801 - val_loss: 0.0588 - val_accuracy: 0.9788 - val_f1_m: 0.9787 - val_precision_m: 0.9787 - val_recall_m: 0.9787\n",
      "Epoch 19/150\n",
      "11/11 [==============================] - 0s 24ms/step - loss: 0.0450 - accuracy: 0.9835 - f1_m: 0.9833 - precision_m: 0.9833 - recall_m: 0.9833 - val_loss: 0.0552 - val_accuracy: 0.9795 - val_f1_m: 0.9794 - val_precision_m: 0.9794 - val_recall_m: 0.9794\n",
      "Epoch 20/150\n",
      "11/11 [==============================] - 0s 24ms/step - loss: 0.0391 - accuracy: 0.9871 - f1_m: 0.9871 - precision_m: 0.9871 - recall_m: 0.9871 - val_loss: 0.0615 - val_accuracy: 0.9773 - val_f1_m: 0.9766 - val_precision_m: 0.9766 - val_recall_m: 0.9766\n",
      "Epoch 21/150\n",
      "11/11 [==============================] - 0s 21ms/step - loss: 0.0381 - accuracy: 0.9883 - f1_m: 0.9880 - precision_m: 0.9880 - recall_m: 0.9880 - val_loss: 0.0528 - val_accuracy: 0.9788 - val_f1_m: 0.9787 - val_precision_m: 0.9787 - val_recall_m: 0.9787\n",
      "Epoch 22/150\n",
      "11/11 [==============================] - 0s 21ms/step - loss: 0.0342 - accuracy: 0.9898 - f1_m: 0.9897 - precision_m: 0.9897 - recall_m: 0.9897 - val_loss: 0.0491 - val_accuracy: 0.9833 - val_f1_m: 0.9835 - val_precision_m: 0.9835 - val_recall_m: 0.9835\n",
      "Epoch 23/150\n",
      "11/11 [==============================] - 0s 19ms/step - loss: 0.0320 - accuracy: 0.9892 - f1_m: 0.9892 - precision_m: 0.9892 - recall_m: 0.9892 - val_loss: 0.0463 - val_accuracy: 0.9841 - val_f1_m: 0.9837 - val_precision_m: 0.9838 - val_recall_m: 0.9838\n",
      "Epoch 24/150\n",
      "11/11 [==============================] - 0s 23ms/step - loss: 0.0313 - accuracy: 0.9881 - f1_m: 0.9884 - precision_m: 0.9884 - recall_m: 0.9884 - val_loss: 0.0447 - val_accuracy: 0.9848 - val_f1_m: 0.9852 - val_precision_m: 0.9852 - val_recall_m: 0.9852\n",
      "Epoch 25/150\n",
      "11/11 [==============================] - 0s 21ms/step - loss: 0.0259 - accuracy: 0.9930 - f1_m: 0.9931 - precision_m: 0.9931 - recall_m: 0.9931 - val_loss: 0.0412 - val_accuracy: 0.9864 - val_f1_m: 0.9861 - val_precision_m: 0.9861 - val_recall_m: 0.9861\n",
      "Epoch 26/150\n",
      "11/11 [==============================] - 0s 24ms/step - loss: 0.0234 - accuracy: 0.9932 - f1_m: 0.9930 - precision_m: 0.9930 - recall_m: 0.9930 - val_loss: 0.0391 - val_accuracy: 0.9864 - val_f1_m: 0.9857 - val_precision_m: 0.9858 - val_recall_m: 0.9858\n",
      "Epoch 27/150\n",
      "11/11 [==============================] - 0s 26ms/step - loss: 0.0229 - accuracy: 0.9941 - f1_m: 0.9942 - precision_m: 0.9942 - recall_m: 0.9942 - val_loss: 0.0468 - val_accuracy: 0.9833 - val_f1_m: 0.9831 - val_precision_m: 0.9831 - val_recall_m: 0.9831\n",
      "Epoch 28/150\n",
      "11/11 [==============================] - 0s 20ms/step - loss: 0.0223 - accuracy: 0.9924 - f1_m: 0.9921 - precision_m: 0.9921 - recall_m: 0.9921 - val_loss: 0.0368 - val_accuracy: 0.9848 - val_f1_m: 0.9852 - val_precision_m: 0.9852 - val_recall_m: 0.9852\n",
      "Epoch 29/150\n",
      "11/11 [==============================] - 0s 19ms/step - loss: 0.0219 - accuracy: 0.9941 - f1_m: 0.9944 - precision_m: 0.9944 - recall_m: 0.9944 - val_loss: 0.0337 - val_accuracy: 0.9909 - val_f1_m: 0.9912 - val_precision_m: 0.9913 - val_recall_m: 0.9913\n",
      "Epoch 30/150\n",
      "11/11 [==============================] - 0s 19ms/step - loss: 0.0190 - accuracy: 0.9939 - f1_m: 0.9939 - precision_m: 0.9939 - recall_m: 0.9939 - val_loss: 0.0323 - val_accuracy: 0.9894 - val_f1_m: 0.9895 - val_precision_m: 0.9895 - val_recall_m: 0.9895\n",
      "Epoch 31/150\n",
      "11/11 [==============================] - 0s 19ms/step - loss: 0.0187 - accuracy: 0.9947 - f1_m: 0.9946 - precision_m: 0.9946 - recall_m: 0.9946 - val_loss: 0.0339 - val_accuracy: 0.9894 - val_f1_m: 0.9899 - val_precision_m: 0.9899 - val_recall_m: 0.9899\n"
     ]
    },
    {
     "name": "stdout",
     "output_type": "stream",
     "text": [
      "Epoch 32/150\n",
      "11/11 [==============================] - 0s 17ms/step - loss: 0.0173 - accuracy: 0.9962 - f1_m: 0.9962 - precision_m: 0.9962 - recall_m: 0.9962 - val_loss: 0.0377 - val_accuracy: 0.9864 - val_f1_m: 0.9865 - val_precision_m: 0.9865 - val_recall_m: 0.9865\n",
      "Epoch 33/150\n",
      "11/11 [==============================] - 0s 19ms/step - loss: 0.0143 - accuracy: 0.9964 - f1_m: 0.9965 - precision_m: 0.9965 - recall_m: 0.9965 - val_loss: 0.0315 - val_accuracy: 0.9879 - val_f1_m: 0.9882 - val_precision_m: 0.9882 - val_recall_m: 0.9882\n",
      "Epoch 34/150\n",
      "11/11 [==============================] - 0s 23ms/step - loss: 0.0129 - accuracy: 0.9968 - f1_m: 0.9968 - precision_m: 0.9968 - recall_m: 0.9968 - val_loss: 0.0277 - val_accuracy: 0.9924 - val_f1_m: 0.9926 - val_precision_m: 0.9926 - val_recall_m: 0.9926\n",
      "Epoch 35/150\n",
      "11/11 [==============================] - 0s 28ms/step - loss: 0.0129 - accuracy: 0.9972 - f1_m: 0.9970 - precision_m: 0.9970 - recall_m: 0.9970 - val_loss: 0.0276 - val_accuracy: 0.9909 - val_f1_m: 0.9912 - val_precision_m: 0.9913 - val_recall_m: 0.9913\n",
      "Epoch 36/150\n",
      "11/11 [==============================] - 0s 18ms/step - loss: 0.0133 - accuracy: 0.9970 - f1_m: 0.9971 - precision_m: 0.9971 - recall_m: 0.9971 - val_loss: 0.0259 - val_accuracy: 0.9909 - val_f1_m: 0.9912 - val_precision_m: 0.9913 - val_recall_m: 0.9913\n",
      "Epoch 37/150\n",
      "11/11 [==============================] - 0s 19ms/step - loss: 0.0128 - accuracy: 0.9968 - f1_m: 0.9969 - precision_m: 0.9969 - recall_m: 0.9969 - val_loss: 0.0232 - val_accuracy: 0.9932 - val_f1_m: 0.9932 - val_precision_m: 0.9933 - val_recall_m: 0.9933\n",
      "Epoch 38/150\n",
      "11/11 [==============================] - 0s 19ms/step - loss: 0.0126 - accuracy: 0.9964 - f1_m: 0.9964 - precision_m: 0.9964 - recall_m: 0.9964 - val_loss: 0.0284 - val_accuracy: 0.9917 - val_f1_m: 0.9923 - val_precision_m: 0.9923 - val_recall_m: 0.9923\n",
      "Epoch 39/150\n",
      "11/11 [==============================] - 0s 23ms/step - loss: 0.0123 - accuracy: 0.9977 - f1_m: 0.9978 - precision_m: 0.9978 - recall_m: 0.9978 - val_loss: 0.0287 - val_accuracy: 0.9917 - val_f1_m: 0.9919 - val_precision_m: 0.9919 - val_recall_m: 0.9919\n",
      "Epoch 40/150\n",
      "11/11 [==============================] - 0s 25ms/step - loss: 0.0125 - accuracy: 0.9966 - f1_m: 0.9966 - precision_m: 0.9966 - recall_m: 0.9966 - val_loss: 0.0272 - val_accuracy: 0.9902 - val_f1_m: 0.9898 - val_precision_m: 0.9898 - val_recall_m: 0.9898\n",
      "Epoch 41/150\n",
      "11/11 [==============================] - 0s 25ms/step - loss: 0.0112 - accuracy: 0.9973 - f1_m: 0.9973 - precision_m: 0.9973 - recall_m: 0.9973 - val_loss: 0.0217 - val_accuracy: 0.9924 - val_f1_m: 0.9926 - val_precision_m: 0.9926 - val_recall_m: 0.9926\n",
      "Epoch 42/150\n",
      "11/11 [==============================] - 0s 21ms/step - loss: 0.0101 - accuracy: 0.9975 - f1_m: 0.9972 - precision_m: 0.9972 - recall_m: 0.9972 - val_loss: 0.0193 - val_accuracy: 0.9939 - val_f1_m: 0.9939 - val_precision_m: 0.9939 - val_recall_m: 0.9939\n",
      "Epoch 43/150\n",
      "11/11 [==============================] - 0s 27ms/step - loss: 0.0099 - accuracy: 0.9970 - f1_m: 0.9971 - precision_m: 0.9971 - recall_m: 0.9971 - val_loss: 0.0181 - val_accuracy: 0.9955 - val_f1_m: 0.9956 - val_precision_m: 0.9956 - val_recall_m: 0.9956\n",
      "Epoch 44/150\n",
      "11/11 [==============================] - 0s 21ms/step - loss: 0.0103 - accuracy: 0.9972 - f1_m: 0.9973 - precision_m: 0.9973 - recall_m: 0.9973 - val_loss: 0.0175 - val_accuracy: 0.9962 - val_f1_m: 0.9963 - val_precision_m: 0.9963 - val_recall_m: 0.9963\n",
      "Epoch 45/150\n",
      "11/11 [==============================] - 0s 26ms/step - loss: 0.0074 - accuracy: 0.9985 - f1_m: 0.9984 - precision_m: 0.9984 - recall_m: 0.9984 - val_loss: 0.0216 - val_accuracy: 0.9932 - val_f1_m: 0.9936 - val_precision_m: 0.9936 - val_recall_m: 0.9936\n",
      "Epoch 46/150\n",
      "11/11 [==============================] - 0s 29ms/step - loss: 0.0085 - accuracy: 0.9970 - f1_m: 0.9968 - precision_m: 0.9968 - recall_m: 0.9968 - val_loss: 0.0167 - val_accuracy: 0.9924 - val_f1_m: 0.9930 - val_precision_m: 0.9930 - val_recall_m: 0.9930\n",
      "Epoch 47/150\n",
      "11/11 [==============================] - 0s 26ms/step - loss: 0.0095 - accuracy: 0.9973 - f1_m: 0.9975 - precision_m: 0.9975 - recall_m: 0.9975 - val_loss: 0.0194 - val_accuracy: 0.9932 - val_f1_m: 0.9932 - val_precision_m: 0.9933 - val_recall_m: 0.9933\n",
      "Epoch 48/150\n",
      "11/11 [==============================] - 0s 25ms/step - loss: 0.0088 - accuracy: 0.9981 - f1_m: 0.9980 - precision_m: 0.9980 - recall_m: 0.9980 - val_loss: 0.0175 - val_accuracy: 0.9939 - val_f1_m: 0.9935 - val_precision_m: 0.9935 - val_recall_m: 0.9935\n",
      "Epoch 49/150\n",
      "11/11 [==============================] - 0s 26ms/step - loss: 0.0080 - accuracy: 0.9983 - f1_m: 0.9984 - precision_m: 0.9984 - recall_m: 0.9984 - val_loss: 0.0189 - val_accuracy: 0.9947 - val_f1_m: 0.9942 - val_precision_m: 0.9942 - val_recall_m: 0.9942\n",
      "Epoch 50/150\n",
      "11/11 [==============================] - 0s 24ms/step - loss: 0.0070 - accuracy: 0.9989 - f1_m: 0.9989 - precision_m: 0.9989 - recall_m: 0.9989 - val_loss: 0.0148 - val_accuracy: 0.9955 - val_f1_m: 0.9952 - val_precision_m: 0.9953 - val_recall_m: 0.9953\n",
      "Epoch 51/150\n",
      "11/11 [==============================] - 0s 24ms/step - loss: 0.0074 - accuracy: 0.9972 - f1_m: 0.9973 - precision_m: 0.9973 - recall_m: 0.9973 - val_loss: 0.0151 - val_accuracy: 0.9962 - val_f1_m: 0.9959 - val_precision_m: 0.9959 - val_recall_m: 0.9959\n",
      "Epoch 52/150\n",
      "11/11 [==============================] - 0s 28ms/step - loss: 0.0054 - accuracy: 0.9985 - f1_m: 0.9985 - precision_m: 0.9985 - recall_m: 0.9985 - val_loss: 0.0159 - val_accuracy: 0.9947 - val_f1_m: 0.9938 - val_precision_m: 0.9938 - val_recall_m: 0.9938\n",
      "Epoch 53/150\n",
      "11/11 [==============================] - 0s 26ms/step - loss: 0.0073 - accuracy: 0.9981 - f1_m: 0.9982 - precision_m: 0.9982 - recall_m: 0.9982 - val_loss: 0.0156 - val_accuracy: 0.9955 - val_f1_m: 0.9949 - val_precision_m: 0.9949 - val_recall_m: 0.9949\n",
      "Epoch 54/150\n",
      "11/11 [==============================] - 0s 24ms/step - loss: 0.0062 - accuracy: 0.9989 - f1_m: 0.9989 - precision_m: 0.9989 - recall_m: 0.9989 - val_loss: 0.0136 - val_accuracy: 0.9962 - val_f1_m: 0.9963 - val_precision_m: 0.9963 - val_recall_m: 0.9963\n",
      "Epoch 55/150\n",
      "11/11 [==============================] - 0s 21ms/step - loss: 0.0076 - accuracy: 0.9977 - f1_m: 0.9977 - precision_m: 0.9977 - recall_m: 0.9977 - val_loss: 0.0186 - val_accuracy: 0.9955 - val_f1_m: 0.9956 - val_precision_m: 0.9956 - val_recall_m: 0.9956\n",
      "Epoch 56/150\n",
      "11/11 [==============================] - 0s 30ms/step - loss: 0.0052 - accuracy: 0.9989 - f1_m: 0.9989 - precision_m: 0.9989 - recall_m: 0.9989 - val_loss: 0.0141 - val_accuracy: 0.9962 - val_f1_m: 0.9959 - val_precision_m: 0.9959 - val_recall_m: 0.9959\n",
      "Epoch 57/150\n",
      "11/11 [==============================] - 0s 23ms/step - loss: 0.0060 - accuracy: 0.9985 - f1_m: 0.9984 - precision_m: 0.9984 - recall_m: 0.9984 - val_loss: 0.0152 - val_accuracy: 0.9970 - val_f1_m: 0.9970 - val_precision_m: 0.9970 - val_recall_m: 0.9970\n",
      "Epoch 58/150\n",
      "11/11 [==============================] - 0s 21ms/step - loss: 0.0050 - accuracy: 0.9992 - f1_m: 0.9993 - precision_m: 0.9993 - recall_m: 0.9993 - val_loss: 0.0146 - val_accuracy: 0.9955 - val_f1_m: 0.9952 - val_precision_m: 0.9952 - val_recall_m: 0.9952\n",
      "Epoch 59/150\n",
      "11/11 [==============================] - 0s 24ms/step - loss: 0.0052 - accuracy: 0.9989 - f1_m: 0.9989 - precision_m: 0.9989 - recall_m: 0.9989 - val_loss: 0.0128 - val_accuracy: 0.9977 - val_f1_m: 0.9976 - val_precision_m: 0.9976 - val_recall_m: 0.9976\n",
      "Epoch 60/150\n",
      "11/11 [==============================] - 0s 21ms/step - loss: 0.0042 - accuracy: 0.9992 - f1_m: 0.9991 - precision_m: 0.9991 - recall_m: 0.9991 - val_loss: 0.0109 - val_accuracy: 0.9977 - val_f1_m: 0.9976 - val_precision_m: 0.9976 - val_recall_m: 0.9976\n",
      "Epoch 61/150\n",
      "11/11 [==============================] - 0s 22ms/step - loss: 0.0042 - accuracy: 0.9991 - f1_m: 0.9991 - precision_m: 0.9991 - recall_m: 0.9991 - val_loss: 0.0125 - val_accuracy: 0.9970 - val_f1_m: 0.9966 - val_precision_m: 0.9966 - val_recall_m: 0.9966\n",
      "Epoch 62/150\n",
      "11/11 [==============================] - 0s 24ms/step - loss: 0.0041 - accuracy: 0.9994 - f1_m: 0.9995 - precision_m: 0.9995 - recall_m: 0.9995 - val_loss: 0.0115 - val_accuracy: 0.9970 - val_f1_m: 0.9966 - val_precision_m: 0.9966 - val_recall_m: 0.9966\n"
     ]
    },
    {
     "name": "stdout",
     "output_type": "stream",
     "text": [
      "Epoch 63/150\n",
      "11/11 [==============================] - 0s 18ms/step - loss: 0.0037 - accuracy: 0.9992 - f1_m: 0.9993 - precision_m: 0.9993 - recall_m: 0.9993 - val_loss: 0.0129 - val_accuracy: 0.9955 - val_f1_m: 0.9952 - val_precision_m: 0.9952 - val_recall_m: 0.9952\n",
      "Epoch 64/150\n",
      "11/11 [==============================] - 0s 19ms/step - loss: 0.0042 - accuracy: 0.9992 - f1_m: 0.9993 - precision_m: 0.9993 - recall_m: 0.9993 - val_loss: 0.0120 - val_accuracy: 0.9970 - val_f1_m: 0.9970 - val_precision_m: 0.9970 - val_recall_m: 0.9970\n",
      "Epoch 65/150\n",
      "11/11 [==============================] - 0s 17ms/step - loss: 0.0048 - accuracy: 0.9994 - f1_m: 0.9995 - precision_m: 0.9995 - recall_m: 0.9995 - val_loss: 0.0105 - val_accuracy: 0.9962 - val_f1_m: 0.9963 - val_precision_m: 0.9963 - val_recall_m: 0.9963\n",
      "Epoch 66/150\n",
      "11/11 [==============================] - 0s 17ms/step - loss: 0.0035 - accuracy: 0.9994 - f1_m: 0.9993 - precision_m: 0.9993 - recall_m: 0.9993 - val_loss: 0.0119 - val_accuracy: 0.9962 - val_f1_m: 0.9963 - val_precision_m: 0.9963 - val_recall_m: 0.9963\n",
      "Epoch 67/150\n",
      "11/11 [==============================] - 0s 19ms/step - loss: 0.0034 - accuracy: 0.9994 - f1_m: 0.9995 - precision_m: 0.9995 - recall_m: 0.9995 - val_loss: 0.0112 - val_accuracy: 0.9970 - val_f1_m: 0.9966 - val_precision_m: 0.9966 - val_recall_m: 0.9966\n",
      "Epoch 68/150\n",
      "11/11 [==============================] - 0s 18ms/step - loss: 0.0034 - accuracy: 0.9996 - f1_m: 0.9996 - precision_m: 0.9996 - recall_m: 0.9996 - val_loss: 0.0116 - val_accuracy: 0.9970 - val_f1_m: 0.9970 - val_precision_m: 0.9970 - val_recall_m: 0.9970\n",
      "Epoch 69/150\n",
      "11/11 [==============================] - 0s 19ms/step - loss: 0.0039 - accuracy: 0.9987 - f1_m: 0.9987 - precision_m: 0.9987 - recall_m: 0.9987 - val_loss: 0.0105 - val_accuracy: 0.9985 - val_f1_m: 0.9983 - val_precision_m: 0.9983 - val_recall_m: 0.9983\n",
      "Epoch 70/150\n",
      "11/11 [==============================] - 0s 17ms/step - loss: 0.0044 - accuracy: 0.9991 - f1_m: 0.9991 - precision_m: 0.9991 - recall_m: 0.9991 - val_loss: 0.0111 - val_accuracy: 0.9970 - val_f1_m: 0.9970 - val_precision_m: 0.9970 - val_recall_m: 0.9970\n",
      "Epoch 71/150\n",
      "11/11 [==============================] - 0s 18ms/step - loss: 0.0037 - accuracy: 0.9994 - f1_m: 0.9995 - precision_m: 0.9995 - recall_m: 0.9995 - val_loss: 0.0089 - val_accuracy: 0.9985 - val_f1_m: 0.9983 - val_precision_m: 0.9983 - val_recall_m: 0.9983\n",
      "Epoch 72/150\n",
      "11/11 [==============================] - 0s 18ms/step - loss: 0.0026 - accuracy: 0.9996 - f1_m: 0.9996 - precision_m: 0.9996 - recall_m: 0.9996 - val_loss: 0.0094 - val_accuracy: 0.9985 - val_f1_m: 0.9983 - val_precision_m: 0.9983 - val_recall_m: 0.9983\n",
      "Epoch 73/150\n",
      "11/11 [==============================] - 0s 18ms/step - loss: 0.0023 - accuracy: 0.9998 - f1_m: 0.9998 - precision_m: 0.9998 - recall_m: 0.9998 - val_loss: 0.0106 - val_accuracy: 0.9962 - val_f1_m: 0.9963 - val_precision_m: 0.9963 - val_recall_m: 0.9963\n",
      "Epoch 74/150\n",
      "11/11 [==============================] - 0s 19ms/step - loss: 0.0027 - accuracy: 0.9994 - f1_m: 0.9995 - precision_m: 0.9995 - recall_m: 0.9995 - val_loss: 0.0108 - val_accuracy: 0.9977 - val_f1_m: 0.9976 - val_precision_m: 0.9976 - val_recall_m: 0.9976\n",
      "Epoch 75/150\n",
      "11/11 [==============================] - 0s 18ms/step - loss: 0.0024 - accuracy: 0.9998 - f1_m: 0.9998 - precision_m: 0.9998 - recall_m: 0.9998 - val_loss: 0.0127 - val_accuracy: 0.9962 - val_f1_m: 0.9959 - val_precision_m: 0.9959 - val_recall_m: 0.9959\n",
      "Epoch 76/150\n",
      "11/11 [==============================] - 0s 28ms/step - loss: 0.0037 - accuracy: 0.9991 - f1_m: 0.9991 - precision_m: 0.9991 - recall_m: 0.9991 - val_loss: 0.0115 - val_accuracy: 0.9970 - val_f1_m: 0.9970 - val_precision_m: 0.9970 - val_recall_m: 0.9970\n",
      "Epoch 77/150\n",
      "11/11 [==============================] - 0s 25ms/step - loss: 0.0031 - accuracy: 0.9994 - f1_m: 0.9995 - precision_m: 0.9995 - recall_m: 0.9995 - val_loss: 0.0085 - val_accuracy: 0.9992 - val_f1_m: 0.9990 - val_precision_m: 0.9990 - val_recall_m: 0.9990\n",
      "Epoch 78/150\n",
      "11/11 [==============================] - 0s 27ms/step - loss: 0.0030 - accuracy: 0.9992 - f1_m: 0.9991 - precision_m: 0.9991 - recall_m: 0.9991 - val_loss: 0.0102 - val_accuracy: 0.9970 - val_f1_m: 0.9966 - val_precision_m: 0.9966 - val_recall_m: 0.9966\n",
      "Epoch 79/150\n",
      "11/11 [==============================] - 0s 22ms/step - loss: 0.0039 - accuracy: 0.9991 - f1_m: 0.9988 - precision_m: 0.9988 - recall_m: 0.9988 - val_loss: 0.0108 - val_accuracy: 0.9970 - val_f1_m: 0.9970 - val_precision_m: 0.9970 - val_recall_m: 0.9970\n",
      "Epoch 80/150\n",
      "11/11 [==============================] - 0s 27ms/step - loss: 0.0037 - accuracy: 0.9994 - f1_m: 0.9995 - precision_m: 0.9995 - recall_m: 0.9995 - val_loss: 0.0152 - val_accuracy: 0.9939 - val_f1_m: 0.9943 - val_precision_m: 0.9943 - val_recall_m: 0.9943\n",
      "Epoch 81/150\n",
      "11/11 [==============================] - 0s 20ms/step - loss: 0.0034 - accuracy: 0.9996 - f1_m: 0.9996 - precision_m: 0.9996 - recall_m: 0.9996 - val_loss: 0.0089 - val_accuracy: 0.9970 - val_f1_m: 0.9970 - val_precision_m: 0.9970 - val_recall_m: 0.9970\n",
      "Epoch 82/150\n",
      "11/11 [==============================] - 0s 26ms/step - loss: 0.0030 - accuracy: 0.9991 - f1_m: 0.9989 - precision_m: 0.9989 - recall_m: 0.9989 - val_loss: 0.0092 - val_accuracy: 0.9977 - val_f1_m: 0.9976 - val_precision_m: 0.9976 - val_recall_m: 0.9976\n",
      "Epoch 83/150\n",
      "11/11 [==============================] - 0s 25ms/step - loss: 0.0026 - accuracy: 0.9996 - f1_m: 0.9996 - precision_m: 0.9996 - recall_m: 0.9996 - val_loss: 0.0102 - val_accuracy: 0.9970 - val_f1_m: 0.9970 - val_precision_m: 0.9970 - val_recall_m: 0.9970\n",
      "Epoch 84/150\n",
      "11/11 [==============================] - 0s 24ms/step - loss: 0.0033 - accuracy: 0.9991 - f1_m: 0.9989 - precision_m: 0.9989 - recall_m: 0.9989 - val_loss: 0.0072 - val_accuracy: 0.9985 - val_f1_m: 0.9983 - val_precision_m: 0.9983 - val_recall_m: 0.9983\n",
      "Epoch 85/150\n",
      "11/11 [==============================] - 0s 26ms/step - loss: 0.0025 - accuracy: 0.9996 - f1_m: 0.9996 - precision_m: 0.9996 - recall_m: 0.9996 - val_loss: 0.0109 - val_accuracy: 0.9955 - val_f1_m: 0.9949 - val_precision_m: 0.9949 - val_recall_m: 0.9949\n",
      "Epoch 86/150\n",
      "11/11 [==============================] - 0s 24ms/step - loss: 0.0034 - accuracy: 0.9994 - f1_m: 0.9993 - precision_m: 0.9993 - recall_m: 0.9993 - val_loss: 0.0111 - val_accuracy: 0.9977 - val_f1_m: 0.9976 - val_precision_m: 0.9976 - val_recall_m: 0.9976\n",
      "Epoch 87/150\n",
      "11/11 [==============================] - 0s 22ms/step - loss: 0.0027 - accuracy: 0.9994 - f1_m: 0.9995 - precision_m: 0.9995 - recall_m: 0.9995 - val_loss: 0.0092 - val_accuracy: 0.9985 - val_f1_m: 0.9983 - val_precision_m: 0.9983 - val_recall_m: 0.9983\n",
      "Epoch 88/150\n",
      "11/11 [==============================] - 0s 22ms/step - loss: 0.0017 - accuracy: 1.0000 - f1_m: 1.0000 - precision_m: 1.0000 - recall_m: 1.0000 - val_loss: 0.0087 - val_accuracy: 0.9985 - val_f1_m: 0.9983 - val_precision_m: 0.9983 - val_recall_m: 0.9983\n",
      "Epoch 89/150\n",
      "11/11 [==============================] - 0s 26ms/step - loss: 0.0018 - accuracy: 0.9998 - f1_m: 0.9998 - precision_m: 0.9998 - recall_m: 0.9998 - val_loss: 0.0091 - val_accuracy: 0.9985 - val_f1_m: 0.9983 - val_precision_m: 0.9983 - val_recall_m: 0.9983\n",
      "Epoch 90/150\n",
      "11/11 [==============================] - 0s 22ms/step - loss: 0.0015 - accuracy: 1.0000 - f1_m: 1.0000 - precision_m: 1.0000 - recall_m: 1.0000 - val_loss: 0.0090 - val_accuracy: 0.9977 - val_f1_m: 0.9976 - val_precision_m: 0.9976 - val_recall_m: 0.9976\n",
      "Epoch 91/150\n",
      "11/11 [==============================] - 0s 22ms/step - loss: 0.0014 - accuracy: 1.0000 - f1_m: 1.0000 - precision_m: 1.0000 - recall_m: 1.0000 - val_loss: 0.0083 - val_accuracy: 0.9977 - val_f1_m: 0.9976 - val_precision_m: 0.9976 - val_recall_m: 0.9976\n",
      "Epoch 92/150\n",
      "11/11 [==============================] - 0s 26ms/step - loss: 0.0015 - accuracy: 0.9998 - f1_m: 0.9998 - precision_m: 0.9998 - recall_m: 0.9998 - val_loss: 0.0078 - val_accuracy: 0.9992 - val_f1_m: 0.9990 - val_precision_m: 0.9990 - val_recall_m: 0.9990\n",
      "Epoch 93/150\n"
     ]
    },
    {
     "name": "stdout",
     "output_type": "stream",
     "text": [
      "11/11 [==============================] - 0s 30ms/step - loss: 0.0016 - accuracy: 1.0000 - f1_m: 1.0000 - precision_m: 1.0000 - recall_m: 1.0000 - val_loss: 0.0088 - val_accuracy: 0.9977 - val_f1_m: 0.9972 - val_precision_m: 0.9973 - val_recall_m: 0.9973\n",
      "Epoch 94/150\n",
      "11/11 [==============================] - 0s 25ms/step - loss: 0.0020 - accuracy: 0.9994 - f1_m: 0.9995 - precision_m: 0.9995 - recall_m: 0.9995 - val_loss: 0.0086 - val_accuracy: 0.9985 - val_f1_m: 0.9979 - val_precision_m: 0.9979 - val_recall_m: 0.9979\n",
      "Epoch 95/150\n",
      "11/11 [==============================] - 0s 19ms/step - loss: 0.0024 - accuracy: 0.9994 - f1_m: 0.9995 - precision_m: 0.9995 - recall_m: 0.9995 - val_loss: 0.0138 - val_accuracy: 0.9962 - val_f1_m: 0.9959 - val_precision_m: 0.9959 - val_recall_m: 0.9959\n",
      "Epoch 96/150\n",
      "11/11 [==============================] - 0s 23ms/step - loss: 0.0027 - accuracy: 0.9992 - f1_m: 0.9991 - precision_m: 0.9991 - recall_m: 0.9991 - val_loss: 0.0109 - val_accuracy: 0.9977 - val_f1_m: 0.9976 - val_precision_m: 0.9976 - val_recall_m: 0.9976\n",
      "Epoch 97/150\n",
      "11/11 [==============================] - 0s 19ms/step - loss: 0.0033 - accuracy: 0.9991 - f1_m: 0.9991 - precision_m: 0.9991 - recall_m: 0.9991 - val_loss: 0.0118 - val_accuracy: 0.9955 - val_f1_m: 0.9956 - val_precision_m: 0.9956 - val_recall_m: 0.9956\n",
      "Epoch 98/150\n",
      "11/11 [==============================] - 0s 26ms/step - loss: 0.0036 - accuracy: 0.9989 - f1_m: 0.9989 - precision_m: 0.9989 - recall_m: 0.9989 - val_loss: 0.0132 - val_accuracy: 0.9955 - val_f1_m: 0.9956 - val_precision_m: 0.9956 - val_recall_m: 0.9956\n",
      "Epoch 99/150\n",
      "11/11 [==============================] - 0s 20ms/step - loss: 0.0036 - accuracy: 0.9989 - f1_m: 0.9989 - precision_m: 0.9989 - recall_m: 0.9989 - val_loss: 0.0172 - val_accuracy: 0.9939 - val_f1_m: 0.9939 - val_precision_m: 0.9939 - val_recall_m: 0.9939\n",
      "Epoch 100/150\n",
      "11/11 [==============================] - 0s 19ms/step - loss: 0.0045 - accuracy: 0.9985 - f1_m: 0.9984 - precision_m: 0.9984 - recall_m: 0.9984 - val_loss: 0.0131 - val_accuracy: 0.9962 - val_f1_m: 0.9959 - val_precision_m: 0.9959 - val_recall_m: 0.9959\n",
      "Epoch 101/150\n",
      "11/11 [==============================] - 0s 27ms/step - loss: 0.0054 - accuracy: 0.9985 - f1_m: 0.9984 - precision_m: 0.9984 - recall_m: 0.9984 - val_loss: 0.0144 - val_accuracy: 0.9955 - val_f1_m: 0.9952 - val_precision_m: 0.9953 - val_recall_m: 0.9953\n",
      "Epoch 102/150\n",
      "11/11 [==============================] - 0s 28ms/step - loss: 0.0078 - accuracy: 0.9972 - f1_m: 0.9973 - precision_m: 0.9973 - recall_m: 0.9973 - val_loss: 0.0311 - val_accuracy: 0.9894 - val_f1_m: 0.9892 - val_precision_m: 0.9892 - val_recall_m: 0.9892\n",
      "Epoch 103/150\n",
      "11/11 [==============================] - 0s 29ms/step - loss: 0.0080 - accuracy: 0.9979 - f1_m: 0.9980 - precision_m: 0.9980 - recall_m: 0.9980 - val_loss: 0.0161 - val_accuracy: 0.9962 - val_f1_m: 0.9959 - val_precision_m: 0.9959 - val_recall_m: 0.9959\n",
      "Epoch 104/150\n",
      "11/11 [==============================] - 0s 23ms/step - loss: 0.0046 - accuracy: 0.9979 - f1_m: 0.9980 - precision_m: 0.9980 - recall_m: 0.9980 - val_loss: 0.0171 - val_accuracy: 0.9939 - val_f1_m: 0.9939 - val_precision_m: 0.9939 - val_recall_m: 0.9939\n",
      "Epoch 105/150\n",
      "11/11 [==============================] - 0s 24ms/step - loss: 0.0052 - accuracy: 0.9983 - f1_m: 0.9984 - precision_m: 0.9984 - recall_m: 0.9984 - val_loss: 0.0163 - val_accuracy: 0.9924 - val_f1_m: 0.9926 - val_precision_m: 0.9926 - val_recall_m: 0.9926\n",
      "Epoch 106/150\n",
      "11/11 [==============================] - 0s 26ms/step - loss: 0.0056 - accuracy: 0.9989 - f1_m: 0.9989 - precision_m: 0.9989 - recall_m: 0.9989 - val_loss: 0.0123 - val_accuracy: 0.9977 - val_f1_m: 0.9972 - val_precision_m: 0.9973 - val_recall_m: 0.9973\n",
      "Epoch 107/150\n",
      "11/11 [==============================] - 0s 21ms/step - loss: 0.0028 - accuracy: 0.9994 - f1_m: 0.9993 - precision_m: 0.9993 - recall_m: 0.9993 - val_loss: 0.0128 - val_accuracy: 0.9977 - val_f1_m: 0.9972 - val_precision_m: 0.9973 - val_recall_m: 0.9973\n",
      "Epoch 108/150\n",
      "11/11 [==============================] - 0s 27ms/step - loss: 0.0040 - accuracy: 0.9983 - f1_m: 0.9982 - precision_m: 0.9982 - recall_m: 0.9982 - val_loss: 0.0351 - val_accuracy: 0.9871 - val_f1_m: 0.9872 - val_precision_m: 0.9872 - val_recall_m: 0.9872\n",
      "Epoch 109/150\n",
      "11/11 [==============================] - 0s 25ms/step - loss: 0.0077 - accuracy: 0.9973 - f1_m: 0.9972 - precision_m: 0.9972 - recall_m: 0.9972 - val_loss: 0.0196 - val_accuracy: 0.9932 - val_f1_m: 0.9929 - val_precision_m: 0.9929 - val_recall_m: 0.9929\n",
      "Epoch 110/150\n",
      "11/11 [==============================] - 0s 20ms/step - loss: 0.0045 - accuracy: 0.9983 - f1_m: 0.9984 - precision_m: 0.9984 - recall_m: 0.9984 - val_loss: 0.0155 - val_accuracy: 0.9939 - val_f1_m: 0.9935 - val_precision_m: 0.9935 - val_recall_m: 0.9935\n",
      "Epoch 111/150\n",
      "11/11 [==============================] - 0s 18ms/step - loss: 0.0024 - accuracy: 0.9996 - f1_m: 0.9996 - precision_m: 0.9996 - recall_m: 0.9996 - val_loss: 0.0088 - val_accuracy: 0.9962 - val_f1_m: 0.9955 - val_precision_m: 0.9955 - val_recall_m: 0.9955\n",
      "Epoch 112/150\n",
      "11/11 [==============================] - 0s 22ms/step - loss: 0.0019 - accuracy: 0.9996 - f1_m: 0.9996 - precision_m: 0.9996 - recall_m: 0.9996 - val_loss: 0.0066 - val_accuracy: 0.9962 - val_f1_m: 0.9959 - val_precision_m: 0.9959 - val_recall_m: 0.9959\n",
      "Epoch 113/150\n",
      "11/11 [==============================] - 0s 22ms/step - loss: 0.0014 - accuracy: 1.0000 - f1_m: 1.0000 - precision_m: 1.0000 - recall_m: 1.0000 - val_loss: 0.0071 - val_accuracy: 0.9970 - val_f1_m: 0.9966 - val_precision_m: 0.9966 - val_recall_m: 0.9966\n",
      "Epoch 114/150\n",
      "11/11 [==============================] - 0s 28ms/step - loss: 0.0015 - accuracy: 0.9998 - f1_m: 0.9998 - precision_m: 0.9998 - recall_m: 0.9998 - val_loss: 0.0084 - val_accuracy: 0.9962 - val_f1_m: 0.9959 - val_precision_m: 0.9959 - val_recall_m: 0.9959\n",
      "Epoch 115/150\n",
      "11/11 [==============================] - 0s 30ms/step - loss: 0.0013 - accuracy: 0.9998 - f1_m: 0.9998 - precision_m: 0.9998 - recall_m: 0.9998 - val_loss: 0.0059 - val_accuracy: 0.9977 - val_f1_m: 0.9976 - val_precision_m: 0.9976 - val_recall_m: 0.9976\n",
      "Epoch 116/150\n",
      "11/11 [==============================] - 0s 32ms/step - loss: 0.0027 - accuracy: 0.9996 - f1_m: 0.9995 - precision_m: 0.9995 - recall_m: 0.9995 - val_loss: 0.0045 - val_accuracy: 0.9977 - val_f1_m: 0.9976 - val_precision_m: 0.9976 - val_recall_m: 0.9976\n",
      "Epoch 117/150\n",
      "11/11 [==============================] - 0s 33ms/step - loss: 0.0024 - accuracy: 0.9992 - f1_m: 0.9993 - precision_m: 0.9993 - recall_m: 0.9993 - val_loss: 0.0059 - val_accuracy: 0.9985 - val_f1_m: 0.9983 - val_precision_m: 0.9983 - val_recall_m: 0.9983\n",
      "Epoch 118/150\n",
      "11/11 [==============================] - 0s 29ms/step - loss: 0.0018 - accuracy: 0.9996 - f1_m: 0.9996 - precision_m: 0.9996 - recall_m: 0.9996 - val_loss: 0.0064 - val_accuracy: 0.9985 - val_f1_m: 0.9983 - val_precision_m: 0.9983 - val_recall_m: 0.9983\n",
      "Epoch 119/150\n",
      "11/11 [==============================] - 0s 29ms/step - loss: 0.0021 - accuracy: 0.9996 - f1_m: 0.9996 - precision_m: 0.9996 - recall_m: 0.9996 - val_loss: 0.0054 - val_accuracy: 0.9977 - val_f1_m: 0.9976 - val_precision_m: 0.9976 - val_recall_m: 0.9976\n",
      "Epoch 120/150\n",
      "11/11 [==============================] - 0s 18ms/step - loss: 0.0031 - accuracy: 0.9989 - f1_m: 0.9989 - precision_m: 0.9989 - recall_m: 0.9989 - val_loss: 0.0046 - val_accuracy: 0.9992 - val_f1_m: 0.9990 - val_precision_m: 0.9990 - val_recall_m: 0.9990\n",
      "Epoch 121/150\n",
      "11/11 [==============================] - 0s 17ms/step - loss: 0.0019 - accuracy: 0.9994 - f1_m: 0.9995 - precision_m: 0.9995 - recall_m: 0.9995 - val_loss: 0.0081 - val_accuracy: 0.9970 - val_f1_m: 0.9970 - val_precision_m: 0.9970 - val_recall_m: 0.9970\n",
      "Epoch 122/150\n",
      "11/11 [==============================] - 0s 23ms/step - loss: 0.0019 - accuracy: 0.9994 - f1_m: 0.9995 - precision_m: 0.9995 - recall_m: 0.9995 - val_loss: 0.0097 - val_accuracy: 0.9970 - val_f1_m: 0.9970 - val_precision_m: 0.9970 - val_recall_m: 0.9970\n",
      "Epoch 123/150\n",
      "11/11 [==============================] - 0s 29ms/step - loss: 0.0019 - accuracy: 0.9998 - f1_m: 0.9997 - precision_m: 0.9997 - recall_m: 0.9997 - val_loss: 0.0145 - val_accuracy: 0.9947 - val_f1_m: 0.9946 - val_precision_m: 0.9946 - val_recall_m: 0.9946\n"
     ]
    },
    {
     "name": "stdout",
     "output_type": "stream",
     "text": [
      "Epoch 124/150\n",
      "11/11 [==============================] - 0s 31ms/step - loss: 0.0033 - accuracy: 0.9991 - f1_m: 0.9991 - precision_m: 0.9991 - recall_m: 0.9991 - val_loss: 0.0149 - val_accuracy: 0.9939 - val_f1_m: 0.9939 - val_precision_m: 0.9939 - val_recall_m: 0.9939\n",
      "Epoch 125/150\n",
      "11/11 [==============================] - 0s 31ms/step - loss: 0.0031 - accuracy: 0.9994 - f1_m: 0.9995 - precision_m: 0.9995 - recall_m: 0.9995 - val_loss: 0.0105 - val_accuracy: 0.9962 - val_f1_m: 0.9955 - val_precision_m: 0.9955 - val_recall_m: 0.9955\n",
      "Epoch 126/150\n",
      "11/11 [==============================] - 0s 28ms/step - loss: 0.0012 - accuracy: 0.9998 - f1_m: 0.9998 - precision_m: 0.9998 - recall_m: 0.9998 - val_loss: 0.0096 - val_accuracy: 0.9977 - val_f1_m: 0.9972 - val_precision_m: 0.9973 - val_recall_m: 0.9973\n",
      "Epoch 127/150\n",
      "11/11 [==============================] - 0s 19ms/step - loss: 0.0019 - accuracy: 0.9994 - f1_m: 0.9995 - precision_m: 0.9995 - recall_m: 0.9995 - val_loss: 0.0077 - val_accuracy: 0.9970 - val_f1_m: 0.9962 - val_precision_m: 0.9962 - val_recall_m: 0.9962\n",
      "Epoch 128/150\n",
      "11/11 [==============================] - 0s 18ms/step - loss: 0.0023 - accuracy: 0.9994 - f1_m: 0.9995 - precision_m: 0.9995 - recall_m: 0.9995 - val_loss: 0.0108 - val_accuracy: 0.9970 - val_f1_m: 0.9970 - val_precision_m: 0.9970 - val_recall_m: 0.9970\n",
      "Epoch 129/150\n",
      "11/11 [==============================] - 0s 24ms/step - loss: 0.0029 - accuracy: 0.9991 - f1_m: 0.9991 - precision_m: 0.9991 - recall_m: 0.9991 - val_loss: 0.0196 - val_accuracy: 0.9932 - val_f1_m: 0.9936 - val_precision_m: 0.9936 - val_recall_m: 0.9936\n",
      "Epoch 130/150\n",
      "11/11 [==============================] - 0s 18ms/step - loss: 0.0013 - accuracy: 1.0000 - f1_m: 1.0000 - precision_m: 1.0000 - recall_m: 1.0000 - val_loss: 0.0143 - val_accuracy: 0.9955 - val_f1_m: 0.9952 - val_precision_m: 0.9953 - val_recall_m: 0.9953\n",
      "Epoch 131/150\n",
      "11/11 [==============================] - 0s 24ms/step - loss: 0.0028 - accuracy: 0.9996 - f1_m: 0.9996 - precision_m: 0.9996 - recall_m: 0.9996 - val_loss: 0.0060 - val_accuracy: 0.9985 - val_f1_m: 0.9983 - val_precision_m: 0.9983 - val_recall_m: 0.9983\n",
      "Epoch 132/150\n",
      "11/11 [==============================] - 0s 27ms/step - loss: 0.0026 - accuracy: 0.9992 - f1_m: 0.9993 - precision_m: 0.9993 - recall_m: 0.9993 - val_loss: 0.0180 - val_accuracy: 0.9932 - val_f1_m: 0.9932 - val_precision_m: 0.9933 - val_recall_m: 0.9933\n",
      "Epoch 133/150\n",
      "11/11 [==============================] - 0s 23ms/step - loss: 0.0030 - accuracy: 0.9989 - f1_m: 0.9989 - precision_m: 0.9989 - recall_m: 0.9989 - val_loss: 0.0073 - val_accuracy: 0.9977 - val_f1_m: 0.9976 - val_precision_m: 0.9976 - val_recall_m: 0.9976\n",
      "Epoch 134/150\n",
      "11/11 [==============================] - 0s 20ms/step - loss: 0.0031 - accuracy: 0.9991 - f1_m: 0.9989 - precision_m: 0.9989 - recall_m: 0.9989 - val_loss: 0.0057 - val_accuracy: 0.9970 - val_f1_m: 0.9970 - val_precision_m: 0.9970 - val_recall_m: 0.9970\n",
      "Epoch 135/150\n",
      "11/11 [==============================] - 0s 20ms/step - loss: 0.0023 - accuracy: 0.9998 - f1_m: 0.9997 - precision_m: 0.9997 - recall_m: 0.9997 - val_loss: 0.0077 - val_accuracy: 0.9970 - val_f1_m: 0.9970 - val_precision_m: 0.9970 - val_recall_m: 0.9970\n",
      "Epoch 136/150\n",
      "11/11 [==============================] - 0s 22ms/step - loss: 0.0027 - accuracy: 0.9994 - f1_m: 0.9995 - precision_m: 0.9995 - recall_m: 0.9995 - val_loss: 0.0097 - val_accuracy: 0.9977 - val_f1_m: 0.9976 - val_precision_m: 0.9976 - val_recall_m: 0.9976\n",
      "Epoch 137/150\n",
      "11/11 [==============================] - 0s 21ms/step - loss: 0.0020 - accuracy: 0.9998 - f1_m: 0.9998 - precision_m: 0.9998 - recall_m: 0.9998 - val_loss: 0.0121 - val_accuracy: 0.9962 - val_f1_m: 0.9963 - val_precision_m: 0.9963 - val_recall_m: 0.9963\n",
      "Epoch 138/150\n",
      "11/11 [==============================] - 0s 20ms/step - loss: 0.0016 - accuracy: 0.9996 - f1_m: 0.9996 - precision_m: 0.9996 - recall_m: 0.9996 - val_loss: 0.0084 - val_accuracy: 0.9962 - val_f1_m: 0.9963 - val_precision_m: 0.9963 - val_recall_m: 0.9963\n",
      "Epoch 139/150\n",
      "11/11 [==============================] - 0s 26ms/step - loss: 0.0015 - accuracy: 0.9994 - f1_m: 0.9995 - precision_m: 0.9995 - recall_m: 0.9995 - val_loss: 0.0032 - val_accuracy: 0.9985 - val_f1_m: 0.9987 - val_precision_m: 0.9987 - val_recall_m: 0.9987\n",
      "Epoch 140/150\n",
      "11/11 [==============================] - 0s 28ms/step - loss: 9.2091e-04 - accuracy: 0.9998 - f1_m: 0.9998 - precision_m: 0.9998 - recall_m: 0.9998 - val_loss: 0.0041 - val_accuracy: 0.9977 - val_f1_m: 0.9980 - val_precision_m: 0.9980 - val_recall_m: 0.9980\n",
      "Epoch 141/150\n",
      "11/11 [==============================] - 0s 24ms/step - loss: 0.0010 - accuracy: 0.9996 - f1_m: 0.9996 - precision_m: 0.9996 - recall_m: 0.9996 - val_loss: 0.0041 - val_accuracy: 0.9985 - val_f1_m: 0.9983 - val_precision_m: 0.9983 - val_recall_m: 0.9983\n",
      "Epoch 142/150\n",
      "11/11 [==============================] - 0s 28ms/step - loss: 0.0015 - accuracy: 0.9998 - f1_m: 0.9998 - precision_m: 0.9998 - recall_m: 0.9998 - val_loss: 0.0056 - val_accuracy: 0.9977 - val_f1_m: 0.9976 - val_precision_m: 0.9976 - val_recall_m: 0.9976\n",
      "Epoch 143/150\n",
      "11/11 [==============================] - 0s 23ms/step - loss: 0.0016 - accuracy: 0.9998 - f1_m: 0.9998 - precision_m: 0.9998 - recall_m: 0.9998 - val_loss: 0.0119 - val_accuracy: 0.9947 - val_f1_m: 0.9946 - val_precision_m: 0.9946 - val_recall_m: 0.9946\n",
      "Epoch 144/150\n",
      "11/11 [==============================] - 0s 23ms/step - loss: 8.4192e-04 - accuracy: 1.0000 - f1_m: 1.0000 - precision_m: 1.0000 - recall_m: 1.0000 - val_loss: 0.0058 - val_accuracy: 0.9985 - val_f1_m: 0.9983 - val_precision_m: 0.9983 - val_recall_m: 0.9983\n",
      "Epoch 145/150\n",
      "11/11 [==============================] - 0s 21ms/step - loss: 0.0014 - accuracy: 0.9994 - f1_m: 0.9995 - precision_m: 0.9995 - recall_m: 0.9995 - val_loss: 0.0045 - val_accuracy: 0.9985 - val_f1_m: 0.9983 - val_precision_m: 0.9983 - val_recall_m: 0.9983\n",
      "Epoch 146/150\n",
      "11/11 [==============================] - ETA: 0s - loss: 0.0010 - accuracy: 0.9998 - f1_m: 0.9998 - precision_m: 0.9998 - recall_m: 0.9998 - 0s 24ms/step - loss: 0.0010 - accuracy: 0.9998 - f1_m: 0.9998 - precision_m: 0.9998 - recall_m: 0.9998 - val_loss: 0.0050 - val_accuracy: 0.9977 - val_f1_m: 0.9976 - val_precision_m: 0.9976 - val_recall_m: 0.9976\n",
      "Epoch 147/150\n",
      "11/11 [==============================] - 0s 27ms/step - loss: 5.9802e-04 - accuracy: 1.0000 - f1_m: 1.0000 - precision_m: 1.0000 - recall_m: 1.0000 - val_loss: 0.0046 - val_accuracy: 0.9985 - val_f1_m: 0.9983 - val_precision_m: 0.9983 - val_recall_m: 0.9983\n",
      "Epoch 148/150\n",
      "11/11 [==============================] - 0s 21ms/step - loss: 0.0010 - accuracy: 0.9996 - f1_m: 0.9996 - precision_m: 0.9996 - recall_m: 0.9996 - val_loss: 0.0044 - val_accuracy: 0.9977 - val_f1_m: 0.9972 - val_precision_m: 0.9973 - val_recall_m: 0.9973\n",
      "Epoch 149/150\n",
      "11/11 [==============================] - 0s 27ms/step - loss: 0.0018 - accuracy: 0.9992 - f1_m: 0.9991 - precision_m: 0.9991 - recall_m: 0.9991 - val_loss: 0.0072 - val_accuracy: 0.9970 - val_f1_m: 0.9970 - val_precision_m: 0.9970 - val_recall_m: 0.9970\n",
      "Epoch 150/150\n",
      "11/11 [==============================] - 0s 32ms/step - loss: 0.0027 - accuracy: 0.9987 - f1_m: 0.9987 - precision_m: 0.9987 - recall_m: 0.9987 - val_loss: 0.0071 - val_accuracy: 0.9977 - val_f1_m: 0.9976 - val_precision_m: 0.9976 - val_recall_m: 0.9976\n"
     ]
    }
   ],
   "source": [
    "def data_splitter(data):\n",
    "    y_train=[]\n",
    "    x_train=data[:,:-1]\n",
    "    x_train=x_train.astype(float)\n",
    "    for row in train_data:\n",
    "        if (row[-1]==0):\n",
    "            y_train0=[0.0,1.0]\n",
    "        else:\n",
    "            y_train0=[1.0,0.0]\n",
    "        y_train.append(y_train0)\n",
    "    y_train=np.array(y_train)\n",
    "    return x_train,y_train\n",
    "X,Y=data_splitter(train_data)\n",
    "X_train=X\n",
    "y_train=Y\n",
    "\n",
    "history = model.fit(X_train,y_train, epochs=150,validation_split=0.2,batch_size=500)\n",
    "model.save_weights('weights.h5')"
   ]
  },
  {
   "cell_type": "markdown",
   "metadata": {},
   "source": [
    "## Results"
   ]
  },
  {
   "cell_type": "code",
   "execution_count": 8,
   "metadata": {},
   "outputs": [
    {
     "data": {
      "image/png": "[encoded data removed]",
      "text/plain": [
       "<Figure size 432x288 with 1 Axes>"
      ]
     },
     "metadata": {
      "needs_background": "light"
     },
     "output_type": "display_data"
    },
    {
     "data": {
      "image/png": "[encoded data removed]",
      "text/plain": [
       "<Figure size 432x288 with 1 Axes>"
      ]
     },
     "metadata": {
      "needs_background": "light"
     },
     "output_type": "display_data"
    }
   ],
   "source": [
    "from matplotlib import pyplot as plt\n",
    "plt.plot(history.history['accuracy'])\n",
    "plt.plot(history.history['val_accuracy'])\n",
    "plt.title('model accuracy')\n",
    "plt.ylabel('accuracy')\n",
    "plt.xlabel('epoch')\n",
    "plt.legend(['train', 'val'], loc='upper left')\n",
    "plt.show()\n",
    "plt.plot(history.history['loss'])\n",
    "plt.plot(history.history['val_loss'])\n",
    "plt.title('model loss')\n",
    "plt.ylabel('loss')\n",
    "plt.xlabel('epoch')\n",
    "plt.legend(['train', 'val'], loc='upper left')\n",
    "plt.show()"
   ]
  },
  {
   "cell_type": "code",
   "execution_count": 9,
   "metadata": {},
   "outputs": [
    {
     "name": "stdout",
     "output_type": "stream",
     "text": [
      "Validation accuracy   :   0.9977272748947144\n",
      "Validation loss       :   0.007147185038775206\n",
      "Validation precision  :   0.9976250529289246\n",
      "Validation recall     :   0.9976250529289246\n",
      "Validation f1 score   :   0.997624933719635\n"
     ]
    }
   ],
   "source": [
    "print('Validation accuracy   :   {}'.format(history.history['val_accuracy'][-1]))\n",
    "print('Validation loss       :   {}'.format(history.history['val_loss'][-1]))\n",
    "print('Validation precision  :   {}'.format(history.history['val_precision_m'][-1]))\n",
    "print('Validation recall     :   {}'.format(history.history['val_recall_m'][-1]))\n",
    "print('Validation f1 score   :   {}'.format(history.history['val_f1_m'][-1]))"
   ]
  },
  {
   "cell_type": "code",
   "execution_count": null,
   "metadata": {},
   "outputs": [],
   "source": []
  }
 ],
 "metadata": {
  "kernelspec": {
   "display_name": "Python 3",
   "language": "python",
   "name": "python3"
  },
  "language_info": {
   "codemirror_mode": {
    "name": "ipython",
    "version": 3
   },
   "file_extension": ".py",
   "mimetype": "text/x-python",
   "name": "python",
   "nbconvert_exporter": "python",
   "pygments_lexer": "ipython3",
   "version": "3.6.5"
  }
 },
 "nbformat": 4,
 "nbformat_minor": 2
}
