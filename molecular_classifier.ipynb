{
 "cells": [
  {
   "cell_type": "code",
   "execution_count": 1,
   "metadata": {},
   "outputs": [],
   "source": [
    "# import keras\n",
    "import sys\n",
    "sys.path=['', '/home/rakhi/molecular_classifier-env/lib/python36.zip', '/home/rakhi/molecular_classifier-env/lib/python3.6', '/home/rakhi/molecular_classifier-env/lib/python3.6/lib-dynload', '/usr/lib/python3.6', '/home/rakhi/molecular_classifier-env/lib/python3.6/site-packages']"
   ]
  },
  {
   "cell_type": "code",
   "execution_count": 2,
   "metadata": {},
   "outputs": [],
   "source": [
    "import pandas as pd\n",
    "import numpy as np"
   ]
  },
  {
   "cell_type": "code",
   "execution_count": 3,
   "metadata": {},
   "outputs": [
    {
     "name": "stdout",
     "output_type": "stream",
     "text": [
      "[[3782 3783 'NON-MUSK-296' ... -249 83 0]\n",
      " [5534 5535 'NON-MUSK-j146' ... -188 3 0]\n",
      " [4505 4506 'NON-MUSK-j100' ... -263 -76 0]\n",
      " ...\n",
      " [3176 3177 'NON-MUSK-252' ... -162 131 0]\n",
      " [670 671 'MUSK-287' ... -150 112 1]\n",
      " [6120 6121 'NON-MUSK-j147' ... -308 -6 0]]\n"
     ]
    }
   ],
   "source": [
    "mdata = pd.read_csv('data/musk_csv.csv')\n",
    "# print(mdata)\n",
    "mdata=mdata.reset_index().values\n",
    "# print(type(mdata))\n",
    "np.random.shuffle(mdata)\n",
    "print(mdata)"
   ]
  },
  {
   "cell_type": "code",
   "execution_count": 4,
   "metadata": {},
   "outputs": [
    {
     "name": "stdout",
     "output_type": "stream",
     "text": [
      "6598\n",
      "Train data:\n",
      "[[15 -198 -160 ... -249 83 0]\n",
      " [46 -195 -108 ... -188 3 0]\n",
      " [-1 -89 -7 ... -263 -76 0]\n",
      " ...\n",
      " [35 -195 -134 ... -162 131 0]\n",
      " [37 -139 -148 ... -150 112 1]\n",
      " [33 -192 -125 ... -308 -6 0]]\n"
     ]
    }
   ],
   "source": [
    "train_length=len(mdata)   #Taking full data,split the train and validation inside keras.fit\n",
    "print(train_length)\n",
    "train_data = mdata[:,4:]\n",
    "print(\"Train data:\")\n",
    "print(train_data)"
   ]
  },
  {
   "cell_type": "code",
   "execution_count": 5,
   "metadata": {},
   "outputs": [
    {
     "name": "stdout",
     "output_type": "stream",
     "text": [
      "Musk record in train data: 1017\n",
      "Non-Musk record in train data: 5581\n",
      "[0 0 0 ... 0 1 0]\n"
     ]
    }
   ],
   "source": [
    "class_traindata=train_data[:,-1]\n",
    "musk_traindata=sum(class_traindata)\n",
    "nonmusk_traindata=train_length-musk_traindata\n",
    "print('Musk record in train data: {}'.format(musk_traindata))\n",
    "print('Non-Musk record in train data: {}'.format(nonmusk_traindata))\n",
    "print(class_traindata)"
   ]
  },
  {
   "cell_type": "code",
   "execution_count": 6,
   "metadata": {},
   "outputs": [],
   "source": [
    "import keras\n",
    "\n",
    "from keras.models import Sequential\n",
    "from keras.layers import Dense\n",
    "from keras import backend as K\n",
    "from keras.layers.normalization import BatchNormalization\n",
    "from keras.layers import Dropout\n",
    "\n",
    "def recall_m(y_true, y_pred):\n",
    "    true_positives = K.sum(K.round(K.clip(y_true * y_pred, 0, 1)))\n",
    "    possible_positives = K.sum(K.round(K.clip(y_true, 0, 1)))\n",
    "    recall = true_positives / (possible_positives + K.epsilon())\n",
    "    return recall\n",
    "\n",
    "def precision_m(y_true, y_pred):\n",
    "    true_positives = K.sum(K.round(K.clip(y_true * y_pred, 0, 1)))\n",
    "    predicted_positives = K.sum(K.round(K.clip(y_pred, 0, 1)))\n",
    "    precision = true_positives / (predicted_positives + K.epsilon())\n",
    "    return precision\n",
    "\n",
    "def f1_m(y_true, y_pred):\n",
    "    precision = precision_m(y_true, y_pred)\n",
    "    recall = recall_m(y_true, y_pred)\n",
    "    return 2*((precision*recall)/(precision+recall+K.epsilon()))\n",
    "\n",
    "model = Sequential()\n",
    "model.add(Dense(40, input_dim=166, activation='relu'))\n",
    "model.add(BatchNormalization())\n",
    "model.add(Dropout(0.1))\n",
    "model.add(Dense(30, activation='relu'))\n",
    "model.add(Dense(2, activation='softmax'))\n",
    "model.compile(loss='categorical_crossentropy', optimizer='adam', metrics=['accuracy',f1_m,precision_m, recall_m])"
   ]
  },
  {
   "cell_type": "code",
   "execution_count": 7,
   "metadata": {},
   "outputs": [
    {
     "name": "stdout",
     "output_type": "stream",
     "text": [
      "Epoch 1/100\n",
      "11/11 [==============================] - 0s 44ms/step - loss: 0.4294 - accuracy: 0.8124 - f1_m: 0.8122 - precision_m: 0.8122 - recall_m: 0.8122 - val_loss: 1.2712 - val_accuracy: 0.8295 - val_f1_m: 0.8226 - val_precision_m: 0.8226 - val_recall_m: 0.8226\n",
      "Epoch 2/100\n",
      "11/11 [==============================] - 0s 9ms/step - loss: 0.2841 - accuracy: 0.8964 - f1_m: 0.8969 - precision_m: 0.8969 - recall_m: 0.8969 - val_loss: 0.8376 - val_accuracy: 0.8318 - val_f1_m: 0.8250 - val_precision_m: 0.8250 - val_recall_m: 0.8250\n",
      "Epoch 3/100\n",
      "11/11 [==============================] - 0s 8ms/step - loss: 0.2256 - accuracy: 0.9199 - f1_m: 0.9198 - precision_m: 0.9198 - recall_m: 0.9198 - val_loss: 0.6304 - val_accuracy: 0.8356 - val_f1_m: 0.8295 - val_precision_m: 0.8295 - val_recall_m: 0.8295\n",
      "Epoch 4/100\n",
      "11/11 [==============================] - 0s 10ms/step - loss: 0.1913 - accuracy: 0.9278 - f1_m: 0.9294 - precision_m: 0.9294 - recall_m: 0.9294 - val_loss: 0.4412 - val_accuracy: 0.8470 - val_f1_m: 0.8425 - val_precision_m: 0.8425 - val_recall_m: 0.8425\n",
      "Epoch 5/100\n",
      "11/11 [==============================] - 0s 15ms/step - loss: 0.1677 - accuracy: 0.9382 - f1_m: 0.9374 - precision_m: 0.9374 - recall_m: 0.9374 - val_loss: 0.3736 - val_accuracy: 0.8644 - val_f1_m: 0.8615 - val_precision_m: 0.8615 - val_recall_m: 0.8615\n",
      "Epoch 6/100\n",
      "11/11 [==============================] - 0s 8ms/step - loss: 0.1477 - accuracy: 0.9464 - f1_m: 0.9459 - precision_m: 0.9459 - recall_m: 0.9459 - val_loss: 0.2796 - val_accuracy: 0.9000 - val_f1_m: 0.8989 - val_precision_m: 0.8989 - val_recall_m: 0.8989\n",
      "Epoch 7/100\n",
      "11/11 [==============================] - 0s 7ms/step - loss: 0.1322 - accuracy: 0.9511 - f1_m: 0.9515 - precision_m: 0.9515 - recall_m: 0.9515 - val_loss: 0.2643 - val_accuracy: 0.9015 - val_f1_m: 0.9002 - val_precision_m: 0.9002 - val_recall_m: 0.9002\n",
      "Epoch 8/100\n",
      "11/11 [==============================] - 0s 9ms/step - loss: 0.1178 - accuracy: 0.9604 - f1_m: 0.9603 - precision_m: 0.9603 - recall_m: 0.9603 - val_loss: 0.2141 - val_accuracy: 0.9189 - val_f1_m: 0.9193 - val_precision_m: 0.9193 - val_recall_m: 0.9193\n",
      "Epoch 9/100\n",
      "11/11 [==============================] - 0s 8ms/step - loss: 0.1056 - accuracy: 0.9631 - f1_m: 0.9624 - precision_m: 0.9624 - recall_m: 0.9624 - val_loss: 0.1924 - val_accuracy: 0.9265 - val_f1_m: 0.9271 - val_precision_m: 0.9271 - val_recall_m: 0.9271\n",
      "Epoch 10/100\n",
      "11/11 [==============================] - 0s 7ms/step - loss: 0.0962 - accuracy: 0.9659 - f1_m: 0.9658 - precision_m: 0.9658 - recall_m: 0.9658 - val_loss: 0.1482 - val_accuracy: 0.9371 - val_f1_m: 0.9375 - val_precision_m: 0.9375 - val_recall_m: 0.9375\n",
      "Epoch 11/100\n",
      "11/11 [==============================] - 0s 9ms/step - loss: 0.0912 - accuracy: 0.9682 - f1_m: 0.9681 - precision_m: 0.9681 - recall_m: 0.9681 - val_loss: 0.1296 - val_accuracy: 0.9470 - val_f1_m: 0.9488 - val_precision_m: 0.9488 - val_recall_m: 0.9488\n",
      "Epoch 12/100\n",
      "11/11 [==============================] - 0s 10ms/step - loss: 0.0821 - accuracy: 0.9708 - f1_m: 0.9714 - precision_m: 0.9714 - recall_m: 0.9714 - val_loss: 0.1086 - val_accuracy: 0.9568 - val_f1_m: 0.9579 - val_precision_m: 0.9579 - val_recall_m: 0.9579\n",
      "Epoch 13/100\n",
      "11/11 [==============================] - 0s 12ms/step - loss: 0.0768 - accuracy: 0.9733 - f1_m: 0.9732 - precision_m: 0.9732 - recall_m: 0.9732 - val_loss: 0.1024 - val_accuracy: 0.9598 - val_f1_m: 0.9605 - val_precision_m: 0.9605 - val_recall_m: 0.9605\n",
      "Epoch 14/100\n",
      "11/11 [==============================] - 0s 11ms/step - loss: 0.0706 - accuracy: 0.9739 - f1_m: 0.9743 - precision_m: 0.9743 - recall_m: 0.9743 - val_loss: 0.0885 - val_accuracy: 0.9689 - val_f1_m: 0.9697 - val_precision_m: 0.9697 - val_recall_m: 0.9697\n",
      "Epoch 15/100\n",
      "11/11 [==============================] - 0s 10ms/step - loss: 0.0668 - accuracy: 0.9757 - f1_m: 0.9754 - precision_m: 0.9754 - recall_m: 0.9754 - val_loss: 0.0874 - val_accuracy: 0.9689 - val_f1_m: 0.9697 - val_precision_m: 0.9697 - val_recall_m: 0.9697\n",
      "Epoch 16/100\n",
      "11/11 [==============================] - 0s 9ms/step - loss: 0.0608 - accuracy: 0.9780 - f1_m: 0.9785 - precision_m: 0.9785 - recall_m: 0.9785 - val_loss: 0.0755 - val_accuracy: 0.9735 - val_f1_m: 0.9737 - val_precision_m: 0.9737 - val_recall_m: 0.9737\n",
      "Epoch 17/100\n",
      "11/11 [==============================] - 0s 7ms/step - loss: 0.0569 - accuracy: 0.9788 - f1_m: 0.9792 - precision_m: 0.9792 - recall_m: 0.9792 - val_loss: 0.0763 - val_accuracy: 0.9705 - val_f1_m: 0.9714 - val_precision_m: 0.9714 - val_recall_m: 0.9714\n",
      "Epoch 18/100\n",
      "11/11 [==============================] - 0s 8ms/step - loss: 0.0514 - accuracy: 0.9822 - f1_m: 0.9828 - precision_m: 0.9828 - recall_m: 0.9828 - val_loss: 0.0675 - val_accuracy: 0.9727 - val_f1_m: 0.9737 - val_precision_m: 0.9738 - val_recall_m: 0.9738\n",
      "Epoch 19/100\n",
      "11/11 [==============================] - 0s 7ms/step - loss: 0.0507 - accuracy: 0.9818 - f1_m: 0.9818 - precision_m: 0.9818 - recall_m: 0.9818 - val_loss: 0.0714 - val_accuracy: 0.9735 - val_f1_m: 0.9748 - val_precision_m: 0.9748 - val_recall_m: 0.9748\n",
      "Epoch 20/100\n",
      "11/11 [==============================] - 0s 10ms/step - loss: 0.0473 - accuracy: 0.9814 - f1_m: 0.9817 - precision_m: 0.9817 - recall_m: 0.9817 - val_loss: 0.0587 - val_accuracy: 0.9773 - val_f1_m: 0.9781 - val_precision_m: 0.9781 - val_recall_m: 0.9781\n",
      "Epoch 21/100\n",
      "11/11 [==============================] - 0s 11ms/step - loss: 0.0422 - accuracy: 0.9852 - f1_m: 0.9854 - precision_m: 0.9854 - recall_m: 0.9854 - val_loss: 0.0529 - val_accuracy: 0.9788 - val_f1_m: 0.9798 - val_precision_m: 0.9798 - val_recall_m: 0.9798\n",
      "Epoch 22/100\n",
      "11/11 [==============================] - 0s 11ms/step - loss: 0.0401 - accuracy: 0.9879 - f1_m: 0.9872 - precision_m: 0.9872 - recall_m: 0.9872 - val_loss: 0.0523 - val_accuracy: 0.9811 - val_f1_m: 0.9822 - val_precision_m: 0.9822 - val_recall_m: 0.9822\n",
      "Epoch 23/100\n",
      "11/11 [==============================] - 0s 12ms/step - loss: 0.0388 - accuracy: 0.9869 - f1_m: 0.9869 - precision_m: 0.9869 - recall_m: 0.9869 - val_loss: 0.0493 - val_accuracy: 0.9826 - val_f1_m: 0.9832 - val_precision_m: 0.9832 - val_recall_m: 0.9832\n",
      "Epoch 24/100\n",
      "11/11 [==============================] - 0s 8ms/step - loss: 0.0333 - accuracy: 0.9898 - f1_m: 0.9900 - precision_m: 0.9900 - recall_m: 0.9900 - val_loss: 0.0495 - val_accuracy: 0.9803 - val_f1_m: 0.9804 - val_precision_m: 0.9804 - val_recall_m: 0.9804\n",
      "Epoch 25/100\n",
      "11/11 [==============================] - 0s 8ms/step - loss: 0.0331 - accuracy: 0.9884 - f1_m: 0.9882 - precision_m: 0.9882 - recall_m: 0.9882 - val_loss: 0.0417 - val_accuracy: 0.9871 - val_f1_m: 0.9875 - val_precision_m: 0.9875 - val_recall_m: 0.9875\n",
      "Epoch 26/100\n",
      "11/11 [==============================] - 0s 10ms/step - loss: 0.0307 - accuracy: 0.9928 - f1_m: 0.9928 - precision_m: 0.9928 - recall_m: 0.9928 - val_loss: 0.0414 - val_accuracy: 0.9826 - val_f1_m: 0.9835 - val_precision_m: 0.9835 - val_recall_m: 0.9835\n",
      "Epoch 27/100\n",
      "11/11 [==============================] - 0s 8ms/step - loss: 0.0275 - accuracy: 0.9913 - f1_m: 0.9915 - precision_m: 0.9915 - recall_m: 0.9915 - val_loss: 0.0453 - val_accuracy: 0.9848 - val_f1_m: 0.9855 - val_precision_m: 0.9855 - val_recall_m: 0.9855\n",
      "Epoch 28/100\n",
      "11/11 [==============================] - 0s 7ms/step - loss: 0.0282 - accuracy: 0.9919 - f1_m: 0.9917 - precision_m: 0.9917 - recall_m: 0.9917 - val_loss: 0.0400 - val_accuracy: 0.9856 - val_f1_m: 0.9862 - val_precision_m: 0.9862 - val_recall_m: 0.9862\n",
      "Epoch 29/100\n",
      "11/11 [==============================] - 0s 7ms/step - loss: 0.0247 - accuracy: 0.9922 - f1_m: 0.9921 - precision_m: 0.9921 - recall_m: 0.9921 - val_loss: 0.0362 - val_accuracy: 0.9848 - val_f1_m: 0.9855 - val_precision_m: 0.9855 - val_recall_m: 0.9855\n",
      "Epoch 30/100\n",
      "11/11 [==============================] - 0s 7ms/step - loss: 0.0231 - accuracy: 0.9932 - f1_m: 0.9935 - precision_m: 0.9935 - recall_m: 0.9935 - val_loss: 0.0318 - val_accuracy: 0.9864 - val_f1_m: 0.9872 - val_precision_m: 0.9873 - val_recall_m: 0.9873\n",
      "Epoch 31/100\n",
      "11/11 [==============================] - 0s 7ms/step - loss: 0.0233 - accuracy: 0.9937 - f1_m: 0.9939 - precision_m: 0.9939 - recall_m: 0.9939 - val_loss: 0.0347 - val_accuracy: 0.9886 - val_f1_m: 0.9896 - val_precision_m: 0.9896 - val_recall_m: 0.9896\n"
     ]
    },
    {
     "name": "stdout",
     "output_type": "stream",
     "text": [
      "Epoch 32/100\n",
      "11/11 [==============================] - 0s 7ms/step - loss: 0.0205 - accuracy: 0.9945 - f1_m: 0.9947 - precision_m: 0.9947 - recall_m: 0.9947 - val_loss: 0.0307 - val_accuracy: 0.9864 - val_f1_m: 0.9869 - val_precision_m: 0.9869 - val_recall_m: 0.9869\n",
      "Epoch 33/100\n",
      "11/11 [==============================] - 0s 7ms/step - loss: 0.0190 - accuracy: 0.9958 - f1_m: 0.9959 - precision_m: 0.9959 - recall_m: 0.9959 - val_loss: 0.0461 - val_accuracy: 0.9848 - val_f1_m: 0.9848 - val_precision_m: 0.9848 - val_recall_m: 0.9848\n",
      "Epoch 34/100\n",
      "11/11 [==============================] - 0s 7ms/step - loss: 0.0166 - accuracy: 0.9964 - f1_m: 0.9965 - precision_m: 0.9965 - recall_m: 0.9965 - val_loss: 0.0273 - val_accuracy: 0.9902 - val_f1_m: 0.9906 - val_precision_m: 0.9906 - val_recall_m: 0.9906\n",
      "Epoch 35/100\n",
      "11/11 [==============================] - 0s 7ms/step - loss: 0.0161 - accuracy: 0.9966 - f1_m: 0.9964 - precision_m: 0.9964 - recall_m: 0.9964 - val_loss: 0.0248 - val_accuracy: 0.9909 - val_f1_m: 0.9909 - val_precision_m: 0.9909 - val_recall_m: 0.9909\n",
      "Epoch 36/100\n",
      "11/11 [==============================] - 0s 6ms/step - loss: 0.0149 - accuracy: 0.9970 - f1_m: 0.9969 - precision_m: 0.9969 - recall_m: 0.9969 - val_loss: 0.0240 - val_accuracy: 0.9924 - val_f1_m: 0.9930 - val_precision_m: 0.9930 - val_recall_m: 0.9930\n",
      "Epoch 37/100\n",
      "11/11 [==============================] - 0s 8ms/step - loss: 0.0148 - accuracy: 0.9973 - f1_m: 0.9975 - precision_m: 0.9975 - recall_m: 0.9975 - val_loss: 0.0211 - val_accuracy: 0.9924 - val_f1_m: 0.9930 - val_precision_m: 0.9930 - val_recall_m: 0.9930\n",
      "Epoch 38/100\n",
      "11/11 [==============================] - 0s 7ms/step - loss: 0.0142 - accuracy: 0.9970 - f1_m: 0.9971 - precision_m: 0.9971 - recall_m: 0.9971 - val_loss: 0.0252 - val_accuracy: 0.9932 - val_f1_m: 0.9940 - val_precision_m: 0.9940 - val_recall_m: 0.9940\n",
      "Epoch 39/100\n",
      "11/11 [==============================] - 0s 6ms/step - loss: 0.0130 - accuracy: 0.9975 - f1_m: 0.9975 - precision_m: 0.9975 - recall_m: 0.9975 - val_loss: 0.0253 - val_accuracy: 0.9939 - val_f1_m: 0.9943 - val_precision_m: 0.9943 - val_recall_m: 0.9943\n",
      "Epoch 40/100\n",
      "11/11 [==============================] - 0s 9ms/step - loss: 0.0143 - accuracy: 0.9956 - f1_m: 0.9957 - precision_m: 0.9957 - recall_m: 0.9957 - val_loss: 0.0219 - val_accuracy: 0.9917 - val_f1_m: 0.9919 - val_precision_m: 0.9919 - val_recall_m: 0.9919\n",
      "Epoch 41/100\n",
      "11/11 [==============================] - 0s 7ms/step - loss: 0.0118 - accuracy: 0.9972 - f1_m: 0.9971 - precision_m: 0.9971 - recall_m: 0.9971 - val_loss: 0.0205 - val_accuracy: 0.9917 - val_f1_m: 0.9923 - val_precision_m: 0.9923 - val_recall_m: 0.9923\n",
      "Epoch 42/100\n",
      "11/11 [==============================] - 0s 8ms/step - loss: 0.0130 - accuracy: 0.9960 - f1_m: 0.9959 - precision_m: 0.9959 - recall_m: 0.9959 - val_loss: 0.0220 - val_accuracy: 0.9939 - val_f1_m: 0.9947 - val_precision_m: 0.9947 - val_recall_m: 0.9947\n",
      "Epoch 43/100\n",
      "11/11 [==============================] - 0s 7ms/step - loss: 0.0112 - accuracy: 0.9977 - f1_m: 0.9975 - precision_m: 0.9975 - recall_m: 0.9975 - val_loss: 0.0199 - val_accuracy: 0.9924 - val_f1_m: 0.9926 - val_precision_m: 0.9926 - val_recall_m: 0.9926\n",
      "Epoch 44/100\n",
      "11/11 [==============================] - 0s 7ms/step - loss: 0.0137 - accuracy: 0.9966 - f1_m: 0.9963 - precision_m: 0.9963 - recall_m: 0.9963 - val_loss: 0.0234 - val_accuracy: 0.9924 - val_f1_m: 0.9933 - val_precision_m: 0.9933 - val_recall_m: 0.9933\n",
      "Epoch 45/100\n",
      "11/11 [==============================] - 0s 8ms/step - loss: 0.0117 - accuracy: 0.9975 - f1_m: 0.9975 - precision_m: 0.9975 - recall_m: 0.9975 - val_loss: 0.0175 - val_accuracy: 0.9947 - val_f1_m: 0.9950 - val_precision_m: 0.9950 - val_recall_m: 0.9950\n",
      "Epoch 46/100\n",
      "11/11 [==============================] - 0s 6ms/step - loss: 0.0120 - accuracy: 0.9968 - f1_m: 0.9966 - precision_m: 0.9966 - recall_m: 0.9966 - val_loss: 0.0172 - val_accuracy: 0.9947 - val_f1_m: 0.9946 - val_precision_m: 0.9946 - val_recall_m: 0.9946\n",
      "Epoch 47/100\n",
      "11/11 [==============================] - 0s 8ms/step - loss: 0.0116 - accuracy: 0.9972 - f1_m: 0.9973 - precision_m: 0.9973 - recall_m: 0.9973 - val_loss: 0.0150 - val_accuracy: 0.9962 - val_f1_m: 0.9963 - val_precision_m: 0.9963 - val_recall_m: 0.9963\n",
      "Epoch 48/100\n",
      "11/11 [==============================] - 0s 7ms/step - loss: 0.0077 - accuracy: 0.9987 - f1_m: 0.9986 - precision_m: 0.9986 - recall_m: 0.9986 - val_loss: 0.0139 - val_accuracy: 0.9955 - val_f1_m: 0.9956 - val_precision_m: 0.9956 - val_recall_m: 0.9956\n",
      "Epoch 49/100\n",
      "11/11 [==============================] - 0s 7ms/step - loss: 0.0087 - accuracy: 0.9977 - f1_m: 0.9975 - precision_m: 0.9975 - recall_m: 0.9975 - val_loss: 0.0162 - val_accuracy: 0.9962 - val_f1_m: 0.9963 - val_precision_m: 0.9963 - val_recall_m: 0.9963\n",
      "Epoch 50/100\n",
      "11/11 [==============================] - 0s 7ms/step - loss: 0.0075 - accuracy: 0.9992 - f1_m: 0.9993 - precision_m: 0.9993 - recall_m: 0.9993 - val_loss: 0.0146 - val_accuracy: 0.9962 - val_f1_m: 0.9967 - val_precision_m: 0.9967 - val_recall_m: 0.9967\n",
      "Epoch 51/100\n",
      "11/11 [==============================] - 0s 7ms/step - loss: 0.0087 - accuracy: 0.9981 - f1_m: 0.9980 - precision_m: 0.9980 - recall_m: 0.9980 - val_loss: 0.0142 - val_accuracy: 0.9970 - val_f1_m: 0.9973 - val_precision_m: 0.9973 - val_recall_m: 0.9973\n",
      "Epoch 52/100\n",
      "11/11 [==============================] - 0s 7ms/step - loss: 0.0064 - accuracy: 0.9992 - f1_m: 0.9991 - precision_m: 0.9991 - recall_m: 0.9991 - val_loss: 0.0152 - val_accuracy: 0.9962 - val_f1_m: 0.9967 - val_precision_m: 0.9967 - val_recall_m: 0.9967\n",
      "Epoch 53/100\n",
      "11/11 [==============================] - 0s 7ms/step - loss: 0.0077 - accuracy: 0.9989 - f1_m: 0.9986 - precision_m: 0.9986 - recall_m: 0.9986 - val_loss: 0.0133 - val_accuracy: 0.9962 - val_f1_m: 0.9967 - val_precision_m: 0.9967 - val_recall_m: 0.9967\n",
      "Epoch 54/100\n",
      "11/11 [==============================] - 0s 8ms/step - loss: 0.0070 - accuracy: 0.9987 - f1_m: 0.9987 - precision_m: 0.9987 - recall_m: 0.9987 - val_loss: 0.0170 - val_accuracy: 0.9962 - val_f1_m: 0.9967 - val_precision_m: 0.9967 - val_recall_m: 0.9967\n",
      "Epoch 55/100\n",
      "11/11 [==============================] - 0s 7ms/step - loss: 0.0083 - accuracy: 0.9977 - f1_m: 0.9978 - precision_m: 0.9978 - recall_m: 0.9978 - val_loss: 0.0140 - val_accuracy: 0.9970 - val_f1_m: 0.9973 - val_precision_m: 0.9973 - val_recall_m: 0.9973\n",
      "Epoch 56/100\n",
      "11/11 [==============================] - 0s 7ms/step - loss: 0.0065 - accuracy: 0.9991 - f1_m: 0.9991 - precision_m: 0.9991 - recall_m: 0.9991 - val_loss: 0.0166 - val_accuracy: 0.9947 - val_f1_m: 0.9953 - val_precision_m: 0.9953 - val_recall_m: 0.9953\n",
      "Epoch 57/100\n",
      "11/11 [==============================] - 0s 8ms/step - loss: 0.0070 - accuracy: 0.9987 - f1_m: 0.9987 - precision_m: 0.9987 - recall_m: 0.9987 - val_loss: 0.0172 - val_accuracy: 0.9917 - val_f1_m: 0.9923 - val_precision_m: 0.9923 - val_recall_m: 0.9923\n",
      "Epoch 58/100\n",
      "11/11 [==============================] - 0s 6ms/step - loss: 0.0076 - accuracy: 0.9979 - f1_m: 0.9980 - precision_m: 0.9980 - recall_m: 0.9980 - val_loss: 0.0124 - val_accuracy: 0.9947 - val_f1_m: 0.9953 - val_precision_m: 0.9953 - val_recall_m: 0.9953\n",
      "Epoch 59/100\n",
      "11/11 [==============================] - 0s 7ms/step - loss: 0.0066 - accuracy: 0.9989 - f1_m: 0.9988 - precision_m: 0.9988 - recall_m: 0.9988 - val_loss: 0.0108 - val_accuracy: 0.9977 - val_f1_m: 0.9980 - val_precision_m: 0.9980 - val_recall_m: 0.9980\n",
      "Epoch 60/100\n",
      "11/11 [==============================] - 0s 7ms/step - loss: 0.0075 - accuracy: 0.9983 - f1_m: 0.9984 - precision_m: 0.9984 - recall_m: 0.9984 - val_loss: 0.0115 - val_accuracy: 0.9970 - val_f1_m: 0.9973 - val_precision_m: 0.9973 - val_recall_m: 0.9973\n",
      "Epoch 61/100\n",
      "11/11 [==============================] - 0s 8ms/step - loss: 0.0057 - accuracy: 0.9987 - f1_m: 0.9987 - precision_m: 0.9987 - recall_m: 0.9987 - val_loss: 0.0101 - val_accuracy: 0.9977 - val_f1_m: 0.9980 - val_precision_m: 0.9980 - val_recall_m: 0.9980\n",
      "Epoch 62/100\n",
      "11/11 [==============================] - 0s 7ms/step - loss: 0.0051 - accuracy: 0.9987 - f1_m: 0.9984 - precision_m: 0.9984 - recall_m: 0.9984 - val_loss: 0.0132 - val_accuracy: 0.9970 - val_f1_m: 0.9973 - val_precision_m: 0.9973 - val_recall_m: 0.9973\n"
     ]
    },
    {
     "name": "stdout",
     "output_type": "stream",
     "text": [
      "Epoch 63/100\n",
      "11/11 [==============================] - 0s 9ms/step - loss: 0.0048 - accuracy: 0.9991 - f1_m: 0.9991 - precision_m: 0.9991 - recall_m: 0.9991 - val_loss: 0.0141 - val_accuracy: 0.9947 - val_f1_m: 0.9950 - val_precision_m: 0.9950 - val_recall_m: 0.9950\n",
      "Epoch 64/100\n",
      "11/11 [==============================] - 0s 8ms/step - loss: 0.0068 - accuracy: 0.9989 - f1_m: 0.9988 - precision_m: 0.9988 - recall_m: 0.9988 - val_loss: 0.0182 - val_accuracy: 0.9947 - val_f1_m: 0.9953 - val_precision_m: 0.9953 - val_recall_m: 0.9953\n",
      "Epoch 65/100\n",
      "11/11 [==============================] - 0s 7ms/step - loss: 0.0051 - accuracy: 0.9991 - f1_m: 0.9988 - precision_m: 0.9988 - recall_m: 0.9988 - val_loss: 0.0133 - val_accuracy: 0.9955 - val_f1_m: 0.9956 - val_precision_m: 0.9956 - val_recall_m: 0.9956\n",
      "Epoch 66/100\n",
      "11/11 [==============================] - 0s 7ms/step - loss: 0.0052 - accuracy: 0.9987 - f1_m: 0.9987 - precision_m: 0.9987 - recall_m: 0.9987 - val_loss: 0.0134 - val_accuracy: 0.9962 - val_f1_m: 0.9967 - val_precision_m: 0.9967 - val_recall_m: 0.9967\n",
      "Epoch 67/100\n",
      "11/11 [==============================] - 0s 7ms/step - loss: 0.0048 - accuracy: 0.9992 - f1_m: 0.9993 - precision_m: 0.9993 - recall_m: 0.9993 - val_loss: 0.0102 - val_accuracy: 0.9977 - val_f1_m: 0.9980 - val_precision_m: 0.9980 - val_recall_m: 0.9980\n",
      "Epoch 68/100\n",
      "11/11 [==============================] - 0s 7ms/step - loss: 0.0058 - accuracy: 0.9987 - f1_m: 0.9987 - precision_m: 0.9987 - recall_m: 0.9987 - val_loss: 0.0124 - val_accuracy: 0.9970 - val_f1_m: 0.9973 - val_precision_m: 0.9973 - val_recall_m: 0.9973\n",
      "Epoch 69/100\n",
      "11/11 [==============================] - 0s 6ms/step - loss: 0.0046 - accuracy: 0.9991 - f1_m: 0.9991 - precision_m: 0.9991 - recall_m: 0.9991 - val_loss: 0.0131 - val_accuracy: 0.9947 - val_f1_m: 0.9950 - val_precision_m: 0.9950 - val_recall_m: 0.9950\n",
      "Epoch 70/100\n",
      "11/11 [==============================] - 0s 7ms/step - loss: 0.0056 - accuracy: 0.9989 - f1_m: 0.9989 - precision_m: 0.9989 - recall_m: 0.9989 - val_loss: 0.0110 - val_accuracy: 0.9970 - val_f1_m: 0.9970 - val_precision_m: 0.9970 - val_recall_m: 0.9970\n",
      "Epoch 71/100\n",
      "11/11 [==============================] - 0s 7ms/step - loss: 0.0041 - accuracy: 0.9992 - f1_m: 0.9991 - precision_m: 0.9991 - recall_m: 0.9991 - val_loss: 0.0138 - val_accuracy: 0.9947 - val_f1_m: 0.9946 - val_precision_m: 0.9946 - val_recall_m: 0.9946\n",
      "Epoch 72/100\n",
      "11/11 [==============================] - 0s 7ms/step - loss: 0.0046 - accuracy: 0.9989 - f1_m: 0.9989 - precision_m: 0.9989 - recall_m: 0.9989 - val_loss: 0.0108 - val_accuracy: 0.9977 - val_f1_m: 0.9980 - val_precision_m: 0.9980 - val_recall_m: 0.9980\n",
      "Epoch 73/100\n",
      "11/11 [==============================] - 0s 7ms/step - loss: 0.0041 - accuracy: 0.9991 - f1_m: 0.9989 - precision_m: 0.9989 - recall_m: 0.9989 - val_loss: 0.0106 - val_accuracy: 0.9977 - val_f1_m: 0.9980 - val_precision_m: 0.9980 - val_recall_m: 0.9980\n",
      "Epoch 74/100\n",
      "11/11 [==============================] - 0s 7ms/step - loss: 0.0048 - accuracy: 0.9991 - f1_m: 0.9989 - precision_m: 0.9989 - recall_m: 0.9989 - val_loss: 0.0105 - val_accuracy: 0.9962 - val_f1_m: 0.9963 - val_precision_m: 0.9963 - val_recall_m: 0.9963\n",
      "Epoch 75/100\n",
      "11/11 [==============================] - 0s 8ms/step - loss: 0.0036 - accuracy: 0.9989 - f1_m: 0.9989 - precision_m: 0.9989 - recall_m: 0.9989 - val_loss: 0.0083 - val_accuracy: 0.9977 - val_f1_m: 0.9980 - val_precision_m: 0.9980 - val_recall_m: 0.9980\n",
      "Epoch 76/100\n",
      "11/11 [==============================] - 0s 7ms/step - loss: 0.0040 - accuracy: 0.9998 - f1_m: 0.9998 - precision_m: 0.9998 - recall_m: 0.9998 - val_loss: 0.0066 - val_accuracy: 0.9985 - val_f1_m: 0.9987 - val_precision_m: 0.9987 - val_recall_m: 0.9987\n",
      "Epoch 77/100\n",
      "11/11 [==============================] - 0s 7ms/step - loss: 0.0027 - accuracy: 0.9996 - f1_m: 0.9996 - precision_m: 0.9996 - recall_m: 0.9996 - val_loss: 0.0090 - val_accuracy: 0.9955 - val_f1_m: 0.9956 - val_precision_m: 0.9956 - val_recall_m: 0.9956\n",
      "Epoch 78/100\n",
      "11/11 [==============================] - 0s 8ms/step - loss: 0.0036 - accuracy: 0.9992 - f1_m: 0.9993 - precision_m: 0.9993 - recall_m: 0.9993 - val_loss: 0.0117 - val_accuracy: 0.9955 - val_f1_m: 0.9960 - val_precision_m: 0.9960 - val_recall_m: 0.9960\n",
      "Epoch 79/100\n",
      "11/11 [==============================] - 0s 7ms/step - loss: 0.0028 - accuracy: 1.0000 - f1_m: 1.0000 - precision_m: 1.0000 - recall_m: 1.0000 - val_loss: 0.0100 - val_accuracy: 0.9955 - val_f1_m: 0.9952 - val_precision_m: 0.9952 - val_recall_m: 0.9952\n",
      "Epoch 80/100\n",
      "11/11 [==============================] - 0s 6ms/step - loss: 0.0031 - accuracy: 0.9992 - f1_m: 0.9991 - precision_m: 0.9991 - recall_m: 0.9991 - val_loss: 0.0075 - val_accuracy: 0.9970 - val_f1_m: 0.9973 - val_precision_m: 0.9973 - val_recall_m: 0.9973\n",
      "Epoch 81/100\n",
      "11/11 [==============================] - 0s 8ms/step - loss: 0.0032 - accuracy: 0.9994 - f1_m: 0.9995 - precision_m: 0.9995 - recall_m: 0.9995 - val_loss: 0.0076 - val_accuracy: 0.9977 - val_f1_m: 0.9980 - val_precision_m: 0.9980 - val_recall_m: 0.9980\n",
      "Epoch 82/100\n",
      "11/11 [==============================] - 0s 7ms/step - loss: 0.0043 - accuracy: 0.9991 - f1_m: 0.9991 - precision_m: 0.9991 - recall_m: 0.9991 - val_loss: 0.0099 - val_accuracy: 0.9977 - val_f1_m: 0.9980 - val_precision_m: 0.9980 - val_recall_m: 0.9980\n",
      "Epoch 83/100\n",
      "11/11 [==============================] - 0s 7ms/step - loss: 0.0033 - accuracy: 0.9992 - f1_m: 0.9993 - precision_m: 0.9993 - recall_m: 0.9993 - val_loss: 0.0127 - val_accuracy: 0.9970 - val_f1_m: 0.9973 - val_precision_m: 0.9973 - val_recall_m: 0.9973\n",
      "Epoch 84/100\n",
      "11/11 [==============================] - 0s 7ms/step - loss: 0.0034 - accuracy: 0.9992 - f1_m: 0.9993 - precision_m: 0.9993 - recall_m: 0.9993 - val_loss: 0.0093 - val_accuracy: 0.9970 - val_f1_m: 0.9973 - val_precision_m: 0.9973 - val_recall_m: 0.9973\n",
      "Epoch 85/100\n",
      "11/11 [==============================] - 0s 9ms/step - loss: 0.0030 - accuracy: 0.9992 - f1_m: 0.9993 - precision_m: 0.9993 - recall_m: 0.9993 - val_loss: 0.0086 - val_accuracy: 0.9962 - val_f1_m: 0.9963 - val_precision_m: 0.9963 - val_recall_m: 0.9963\n",
      "Epoch 86/100\n",
      "11/11 [==============================] - 0s 11ms/step - loss: 0.0028 - accuracy: 0.9994 - f1_m: 0.9995 - precision_m: 0.9995 - recall_m: 0.9995 - val_loss: 0.0074 - val_accuracy: 0.9977 - val_f1_m: 0.9980 - val_precision_m: 0.9980 - val_recall_m: 0.9980\n",
      "Epoch 87/100\n",
      "11/11 [==============================] - 0s 12ms/step - loss: 0.0040 - accuracy: 0.9994 - f1_m: 0.9995 - precision_m: 0.9995 - recall_m: 0.9995 - val_loss: 0.0087 - val_accuracy: 0.9985 - val_f1_m: 0.9987 - val_precision_m: 0.9987 - val_recall_m: 0.9987\n",
      "Epoch 88/100\n",
      "11/11 [==============================] - 0s 10ms/step - loss: 0.0028 - accuracy: 0.9992 - f1_m: 0.9991 - precision_m: 0.9991 - recall_m: 0.9991 - val_loss: 0.0095 - val_accuracy: 0.9977 - val_f1_m: 0.9980 - val_precision_m: 0.9980 - val_recall_m: 0.9980\n",
      "Epoch 89/100\n",
      "11/11 [==============================] - 0s 8ms/step - loss: 0.0042 - accuracy: 0.9989 - f1_m: 0.9989 - precision_m: 0.9989 - recall_m: 0.9989 - val_loss: 0.0077 - val_accuracy: 0.9985 - val_f1_m: 0.9987 - val_precision_m: 0.9987 - val_recall_m: 0.9987\n",
      "Epoch 90/100\n",
      "11/11 [==============================] - 0s 13ms/step - loss: 0.0040 - accuracy: 0.9996 - f1_m: 0.9996 - precision_m: 0.9996 - recall_m: 0.9996 - val_loss: 0.0083 - val_accuracy: 0.9970 - val_f1_m: 0.9973 - val_precision_m: 0.9973 - val_recall_m: 0.9973\n",
      "Epoch 91/100\n",
      "11/11 [==============================] - 0s 16ms/step - loss: 0.0023 - accuracy: 1.0000 - f1_m: 1.0000 - precision_m: 1.0000 - recall_m: 1.0000 - val_loss: 0.0079 - val_accuracy: 0.9977 - val_f1_m: 0.9980 - val_precision_m: 0.9980 - val_recall_m: 0.9980\n",
      "Epoch 92/100\n",
      "11/11 [==============================] - 0s 14ms/step - loss: 0.0042 - accuracy: 0.9991 - f1_m: 0.9991 - precision_m: 0.9991 - recall_m: 0.9991 - val_loss: 0.0096 - val_accuracy: 0.9970 - val_f1_m: 0.9973 - val_precision_m: 0.9973 - val_recall_m: 0.9973\n",
      "Epoch 93/100\n",
      "11/11 [==============================] - 0s 11ms/step - loss: 0.0040 - accuracy: 0.9985 - f1_m: 0.9984 - precision_m: 0.9984 - recall_m: 0.9984 - val_loss: 0.0061 - val_accuracy: 0.9977 - val_f1_m: 0.9980 - val_precision_m: 0.9980 - val_recall_m: 0.9980\n"
     ]
    },
    {
     "name": "stdout",
     "output_type": "stream",
     "text": [
      "Epoch 94/100\n",
      "11/11 [==============================] - 0s 11ms/step - loss: 0.0027 - accuracy: 0.9994 - f1_m: 0.9995 - precision_m: 0.9995 - recall_m: 0.9995 - val_loss: 0.0063 - val_accuracy: 0.9992 - val_f1_m: 0.9993 - val_precision_m: 0.9993 - val_recall_m: 0.9993\n",
      "Epoch 95/100\n",
      "11/11 [==============================] - 0s 14ms/step - loss: 0.0023 - accuracy: 0.9994 - f1_m: 0.9995 - precision_m: 0.9995 - recall_m: 0.9995 - val_loss: 0.0050 - val_accuracy: 0.9985 - val_f1_m: 0.9987 - val_precision_m: 0.9987 - val_recall_m: 0.9987\n",
      "Epoch 96/100\n",
      "11/11 [==============================] - 0s 12ms/step - loss: 0.0037 - accuracy: 0.9987 - f1_m: 0.9987 - precision_m: 0.9987 - recall_m: 0.9987 - val_loss: 0.0051 - val_accuracy: 0.9985 - val_f1_m: 0.9987 - val_precision_m: 0.9987 - val_recall_m: 0.9987\n",
      "Epoch 97/100\n",
      "11/11 [==============================] - 0s 7ms/step - loss: 0.0033 - accuracy: 0.9994 - f1_m: 0.9995 - precision_m: 0.9995 - recall_m: 0.9995 - val_loss: 0.0068 - val_accuracy: 0.9985 - val_f1_m: 0.9983 - val_precision_m: 0.9983 - val_recall_m: 0.9983\n",
      "Epoch 98/100\n",
      "11/11 [==============================] - 0s 8ms/step - loss: 0.0024 - accuracy: 0.9994 - f1_m: 0.9995 - precision_m: 0.9995 - recall_m: 0.9995 - val_loss: 0.0079 - val_accuracy: 0.9977 - val_f1_m: 0.9980 - val_precision_m: 0.9980 - val_recall_m: 0.9980\n",
      "Epoch 99/100\n",
      "11/11 [==============================] - 0s 7ms/step - loss: 0.0021 - accuracy: 0.9996 - f1_m: 0.9996 - precision_m: 0.9996 - recall_m: 0.9996 - val_loss: 0.0046 - val_accuracy: 0.9985 - val_f1_m: 0.9987 - val_precision_m: 0.9987 - val_recall_m: 0.9987\n",
      "Epoch 100/100\n",
      "11/11 [==============================] - 0s 7ms/step - loss: 0.0016 - accuracy: 1.0000 - f1_m: 1.0000 - precision_m: 1.0000 - recall_m: 1.0000 - val_loss: 0.0061 - val_accuracy: 0.9985 - val_f1_m: 0.9987 - val_precision_m: 0.9987 - val_recall_m: 0.9987\n"
     ]
    }
   ],
   "source": [
    "# from sklearn.model_selection import train_test_split\n",
    "\n",
    "def data_splitter(data):\n",
    "    y_train=[]\n",
    "    x_train=data[:,:-1]\n",
    "    x_train=x_train.astype(float)\n",
    "    for row in train_data:\n",
    "        if (row[-1]==0):\n",
    "            y_train0=[0.0,1.0]\n",
    "        else:\n",
    "            y_train0=[1.0,0.0]\n",
    "        y_train.append(y_train0)\n",
    "    y_train=np.array(y_train)\n",
    "    return x_train,y_train\n",
    "X,Y=data_splitter(train_data)\n",
    "X_train=X\n",
    "y_train=Y\n",
    "# X_train, X_test, y_train, y_test = train_test_split(X, Y, test_size=0.20, random_state=42)\n",
    "\n",
    "history = model.fit(X_train,y_train, epochs=100,validation_split=0.2,batch_size=500)\n",
    "model.save_weights('weights.h5')"
   ]
  },
  {
   "cell_type": "code",
   "execution_count": 8,
   "metadata": {},
   "outputs": [
    {
     "data": {
      "image/png": "[encoded data removed]",
      "text/plain": [
       "<Figure size 432x288 with 1 Axes>"
      ]
     },
     "metadata": {
      "needs_background": "light"
     },
     "output_type": "display_data"
    },
    {
     "data": {
      "image/png": "[encoded data removed]",
      "text/plain": [
       "<Figure size 432x288 with 1 Axes>"
      ]
     },
     "metadata": {
      "needs_background": "light"
     },
     "output_type": "display_data"
    }
   ],
   "source": [
    "from matplotlib import pyplot as plt\n",
    "plt.plot(history.history['accuracy'])\n",
    "plt.plot(history.history['val_accuracy'])\n",
    "plt.title('model accuracy')\n",
    "plt.ylabel('accuracy')\n",
    "plt.xlabel('epoch')\n",
    "plt.legend(['train', 'val'], loc='upper left')\n",
    "plt.show()\n",
    "plt.plot(history.history['loss'])\n",
    "plt.plot(history.history['val_loss'])\n",
    "plt.title('model loss')\n",
    "plt.ylabel('loss')\n",
    "plt.xlabel('epoch')\n",
    "plt.legend(['train', 'val'], loc='upper left')\n",
    "plt.show()"
   ]
  },
  {
   "cell_type": "code",
   "execution_count": 9,
   "metadata": {},
   "outputs": [
    {
     "name": "stdout",
     "output_type": "stream",
     "text": [
      "Validation accuracy   :   0.9984848499298096\n",
      "Validation loss       :   0.006099014077335596\n",
      "Validation precision  :   0.9986667037010193\n",
      "Validation recall     :   0.9986667037010193\n",
      "Validation f1 score   :   0.9986665844917297\n"
     ]
    }
   ],
   "source": [
    "print('Validation accuracy   :   {}'.format(history.history['val_accuracy'][-1]))\n",
    "print('Validation loss       :   {}'.format(history.history['val_loss'][-1]))\n",
    "print('Validation precision  :   {}'.format(history.history['val_precision_m'][-1]))\n",
    "print('Validation recall     :   {}'.format(history.history['val_recall_m'][-1]))\n",
    "print('Validation f1 score   :   {}'.format(history.history['val_f1_m'][-1]))"
   ]
  },
  {
   "cell_type": "code",
   "execution_count": null,
   "metadata": {},
   "outputs": [],
   "source": []
  }
 ],
 "metadata": {
  "kernelspec": {
   "display_name": "Python 3",
   "language": "python",
   "name": "python3"
  },
  "language_info": {
   "codemirror_mode": {
    "name": "ipython",
    "version": 3
   },
   "file_extension": ".py",
   "mimetype": "text/x-python",
   "name": "python",
   "nbconvert_exporter": "python",
   "pygments_lexer": "ipython3",
   "version": "3.6.5"
  }
 },
 "nbformat": 4,
 "nbformat_minor": 2
}
